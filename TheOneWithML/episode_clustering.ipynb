{
 "cells": [
  {
   "cell_type": "markdown",
   "metadata": {},
   "source": [
    "# The One With ML : Episode clustering\n",
    "\n",
    "We will take the summary of all episodes of the Friends TV Show to project them into an embedding space using an Embedding Model. Then, we will cluster them using DBSCAN and visualize them with UMAP in a 2D plane. \n",
    "\n",
    "The goal is to show if similar episodes are regrouped together.\n",
    "\n",
    "We will use the data from the [Friends Series Dataset](https://www.kaggle.com/datasets/rezaghari/friends-series-dataset)."
   ]
  },
  {
   "cell_type": "markdown",
   "metadata": {},
   "source": [
    "### Imports"
   ]
  },
  {
   "cell_type": "code",
   "execution_count": null,
   "metadata": {},
   "outputs": [],
   "source": [
    "from tqdm import tqdm\n",
    "\n",
    "# HuggingFace\n",
    "from transformers import AutoModel, AutoTokenizer\n",
    "from datasets import Dataset\n",
    "\n",
    "# ML\n",
    "from sklearn.cluster import DBSCAN\n",
    "import pandas as pd\n",
    "import numpy as np\n",
    "import torch\n",
    "import torch.nn.functional as F\n",
    "import nltk\n",
    "import umap.umap_ as umap\n",
    "\n",
    "# Visualization\n",
    "import plotly.express as px\n"
   ]
  },
  {
   "cell_type": "code",
   "execution_count": 2,
   "metadata": {},
   "outputs": [],
   "source": [
    "data_path = 'data/'\n",
    "dataset_file_name = 'friends_episodes_augmented.csv'\n",
    "dataset_path = data_path + dataset_file_name"
   ]
  },
  {
   "cell_type": "markdown",
   "metadata": {},
   "source": [
    "### Loading data"
   ]
  },
  {
   "cell_type": "code",
   "execution_count": 3,
   "metadata": {},
   "outputs": [
    {
     "data": {
      "text/html": [
       "<div>\n",
       "<style scoped>\n",
       "    .dataframe tbody tr th:only-of-type {\n",
       "        vertical-align: middle;\n",
       "    }\n",
       "\n",
       "    .dataframe tbody tr th {\n",
       "        vertical-align: top;\n",
       "    }\n",
       "\n",
       "    .dataframe thead th {\n",
       "        text-align: right;\n",
       "    }\n",
       "</style>\n",
       "<table border=\"1\" class=\"dataframe\">\n",
       "  <thead>\n",
       "    <tr style=\"text-align: right;\">\n",
       "      <th></th>\n",
       "      <th>Year_of_prod</th>\n",
       "      <th>Season</th>\n",
       "      <th>Episode Number</th>\n",
       "      <th>Episode_Title</th>\n",
       "      <th>Duration</th>\n",
       "      <th>Summary</th>\n",
       "      <th>Director</th>\n",
       "      <th>Stars</th>\n",
       "      <th>Votes</th>\n",
       "    </tr>\n",
       "  </thead>\n",
       "  <tbody>\n",
       "    <tr>\n",
       "      <th>0</th>\n",
       "      <td>1994</td>\n",
       "      <td>1</td>\n",
       "      <td>1</td>\n",
       "      <td>The One Where Monica Gets a Roommate: The Pilot</td>\n",
       "      <td>22</td>\n",
       "      <td>Monica and the gang introduce Rachel to the \"r...</td>\n",
       "      <td>James Burrows</td>\n",
       "      <td>8.3</td>\n",
       "      <td>7440</td>\n",
       "    </tr>\n",
       "    <tr>\n",
       "      <th>1</th>\n",
       "      <td>1994</td>\n",
       "      <td>1</td>\n",
       "      <td>2</td>\n",
       "      <td>The One with the Sonogram at the End</td>\n",
       "      <td>22</td>\n",
       "      <td>Ross finds out his ex-wife is pregnant. Rachel...</td>\n",
       "      <td>James Burrows</td>\n",
       "      <td>8.1</td>\n",
       "      <td>4888</td>\n",
       "    </tr>\n",
       "    <tr>\n",
       "      <th>2</th>\n",
       "      <td>1994</td>\n",
       "      <td>1</td>\n",
       "      <td>3</td>\n",
       "      <td>The One with the Thumb</td>\n",
       "      <td>22</td>\n",
       "      <td>Monica becomes irritated when everyone likes h...</td>\n",
       "      <td>James Burrows</td>\n",
       "      <td>8.2</td>\n",
       "      <td>4605</td>\n",
       "    </tr>\n",
       "    <tr>\n",
       "      <th>3</th>\n",
       "      <td>1994</td>\n",
       "      <td>1</td>\n",
       "      <td>4</td>\n",
       "      <td>The One with George Stephanopoulos</td>\n",
       "      <td>22</td>\n",
       "      <td>Joey and Chandler take Ross to a hockey game t...</td>\n",
       "      <td>James Burrows</td>\n",
       "      <td>8.1</td>\n",
       "      <td>4468</td>\n",
       "    </tr>\n",
       "    <tr>\n",
       "      <th>4</th>\n",
       "      <td>1994</td>\n",
       "      <td>1</td>\n",
       "      <td>5</td>\n",
       "      <td>The One with the East German Laundry Detergent</td>\n",
       "      <td>22</td>\n",
       "      <td>Eager to spend time with Rachel, Ross pretends...</td>\n",
       "      <td>Pamela Fryman</td>\n",
       "      <td>8.5</td>\n",
       "      <td>4438</td>\n",
       "    </tr>\n",
       "  </tbody>\n",
       "</table>\n",
       "</div>"
      ],
      "text/plain": [
       "   Year_of_prod  Season  Episode Number  \\\n",
       "0          1994       1               1   \n",
       "1          1994       1               2   \n",
       "2          1994       1               3   \n",
       "3          1994       1               4   \n",
       "4          1994       1               5   \n",
       "\n",
       "                                     Episode_Title  Duration  \\\n",
       "0  The One Where Monica Gets a Roommate: The Pilot        22   \n",
       "1             The One with the Sonogram at the End        22   \n",
       "2                           The One with the Thumb        22   \n",
       "3               The One with George Stephanopoulos        22   \n",
       "4   The One with the East German Laundry Detergent        22   \n",
       "\n",
       "                                             Summary       Director  Stars  \\\n",
       "0  Monica and the gang introduce Rachel to the \"r...  James Burrows    8.3   \n",
       "1  Ross finds out his ex-wife is pregnant. Rachel...  James Burrows    8.1   \n",
       "2  Monica becomes irritated when everyone likes h...  James Burrows    8.2   \n",
       "3  Joey and Chandler take Ross to a hockey game t...  James Burrows    8.1   \n",
       "4  Eager to spend time with Rachel, Ross pretends...  Pamela Fryman    8.5   \n",
       "\n",
       "   Votes  \n",
       "0   7440  \n",
       "1   4888  \n",
       "2   4605  \n",
       "3   4468  \n",
       "4   4438  "
      ]
     },
     "execution_count": 3,
     "metadata": {},
     "output_type": "execute_result"
    }
   ],
   "source": [
    "# In the first line of the dataset, there is an unkown character, simply replace the description with :\n",
    "# Monica and the gang introduce Rachel to the \"\"real world\"\" after she leaves her fiancé at the altar.\n",
    "\n",
    "friends_episodes_description_df = pd.read_csv(dataset_path)\n",
    "friends_episodes_description_df.head(5)"
   ]
  },
  {
   "cell_type": "code",
   "execution_count": 4,
   "metadata": {},
   "outputs": [
    {
     "name": "stdout",
     "output_type": "stream",
     "text": [
      "|    |   Year_of_prod |   Season |   Episode Number | Episode_Title                                   |   Duration | Summary                                                                                                                                                                                                                      | Director      |   Stars |   Votes |\n",
      "|---:|---------------:|---------:|-----------------:|:------------------------------------------------|-----------:|:-----------------------------------------------------------------------------------------------------------------------------------------------------------------------------------------------------------------------------|:--------------|--------:|--------:|\n",
      "|  0 |           1994 |        1 |                1 | The One Where Monica Gets a Roommate: The Pilot |         22 | Monica and the gang introduce Rachel to the \"real world\" after she leaves her fiancé at the altar.                                                                                                                           | James Burrows |     8.3 |    7440 |\n",
      "|  1 |           1994 |        1 |                2 | The One with the Sonogram at the End            |         22 | Ross finds out his ex-wife is pregnant. Rachel returns her engagement ring to Barry. Monica becomes stressed when her and Ross's parents come to visit.                                                                      | James Burrows |     8.1 |    4888 |\n",
      "|  2 |           1994 |        1 |                3 | The One with the Thumb                          |         22 | Monica becomes irritated when everyone likes her new boyfriend more than she does. Chandler resumes his smoking habit. Phoebe is given $7000 when she finds a thumb in a can of soda.                                        | James Burrows |     8.2 |    4605 |\n",
      "|  3 |           1994 |        1 |                4 | The One with George Stephanopoulos              |         22 | Joey and Chandler take Ross to a hockey game to take his mind off the anniversary of the first time he slept with Carol, while the girls become depressed when they realize they don't have a 'plan'.                        | James Burrows |     8.1 |    4468 |\n",
      "|  4 |           1994 |        1 |                5 | The One with the East German Laundry Detergent  |         22 | Eager to spend time with Rachel, Ross pretends his washroom is rat-infested so he can join her at the laundromat. Meanwhile, Joey has Monica pose as his girlfriend, and Chandler struggles to break up with his girlfriend. | Pamela Fryman |     8.5 |    4438 |\n"
     ]
    }
   ],
   "source": [
    "print(friends_episodes_description_df.head(5).to_markdown())"
   ]
  },
  {
   "cell_type": "markdown",
   "metadata": {},
   "source": [
    "Let's show some statistics about the summaries of each episode"
   ]
  },
  {
   "cell_type": "code",
   "execution_count": 5,
   "metadata": {},
   "outputs": [],
   "source": [
    "# Find number of characters and words in summaries\n",
    "friends_episodes_description_df['summary_char_length'] = friends_episodes_description_df['Summary'].map(lambda x: len(x))\n",
    "friends_episodes_description_df['summary_word_length'] = friends_episodes_description_df['Summary'].map(lambda x: len(nltk.word_tokenize(x)))"
   ]
  },
  {
   "cell_type": "code",
   "execution_count": 6,
   "metadata": {},
   "outputs": [
    {
     "data": {
      "application/vnd.plotly.v1+json": {
       "config": {
        "plotlyServerURL": "https://plot.ly"
       },
       "data": [
        {
         "alignmentgroup": "True",
         "bingroup": "x",
         "hovertemplate": "variable=summary_char_length<br>value=%{x}<br>count=%{y}<extra></extra>",
         "legendgroup": "summary_char_length",
         "marker": {
          "color": "#636efa",
          "pattern": {
           "shape": ""
          }
         },
         "name": "summary_char_length",
         "nbinsx": 30,
         "offsetgroup": "summary_char_length",
         "orientation": "v",
         "showlegend": true,
         "type": "histogram",
         "x": [
          98,
          151,
          181,
          197,
          220,
          210,
          141,
          109,
          101,
          172,
          153,
          191,
          177,
          216,
          167,
          161,
          136,
          82,
          76,
          156,
          151,
          163,
          125,
          168,
          178,
          180,
          173,
          189,
          111,
          163,
          230,
          208,
          134,
          164,
          155,
          217,
          173,
          113,
          202,
          229,
          172,
          226,
          232,
          234,
          240,
          185,
          179,
          245,
          192,
          195,
          183,
          237,
          204,
          89,
          226,
          229,
          145,
          240,
          198,
          215,
          186,
          139,
          154,
          224,
          113,
          230,
          193,
          155,
          211,
          207,
          209,
          238,
          155,
          150,
          161,
          238,
          192,
          164,
          247,
          188,
          239,
          238,
          218,
          186,
          232,
          216,
          226,
          240,
          158,
          213,
          172,
          97,
          207,
          159,
          201,
          185,
          239,
          140,
          240,
          205,
          219,
          137,
          178,
          159,
          70,
          179,
          222,
          183,
          196,
          210,
          114,
          235,
          186,
          160,
          236,
          176,
          116,
          209,
          220,
          178,
          162,
          196,
          160,
          178,
          164,
          144,
          152,
          185,
          177,
          232,
          235,
          163,
          194,
          121,
          216,
          114,
          75,
          178,
          142,
          189,
          117,
          199,
          158,
          109,
          180,
          154,
          181,
          212,
          193,
          194,
          194,
          158,
          225,
          205,
          132,
          179,
          157,
          129,
          145,
          99,
          225,
          189,
          224,
          218,
          150,
          134,
          150,
          148,
          227,
          88,
          159,
          120,
          225,
          215,
          224,
          224,
          147,
          220,
          124,
          154,
          187,
          222,
          153,
          88,
          98,
          221,
          226,
          163,
          142,
          283,
          220,
          178,
          225,
          87,
          93,
          139,
          123,
          57,
          159,
          150,
          166,
          86,
          97,
          200,
          149,
          141,
          157,
          135,
          204,
          226,
          220,
          237,
          226,
          135,
          224,
          226,
          221,
          226,
          140,
          204,
          233,
          171,
          219,
          169,
          200,
          145,
          226,
          221,
          179,
          55,
          133,
          225,
          137,
          96,
          226,
          230
         ],
         "xaxis": "x",
         "yaxis": "y"
        }
       ],
       "layout": {
        "barmode": "relative",
        "height": 512,
        "legend": {
         "title": {
          "text": "variable"
         },
         "tracegroupgap": 0
        },
        "showlegend": false,
        "template": {
         "data": {
          "bar": [
           {
            "error_x": {
             "color": "#2a3f5f"
            },
            "error_y": {
             "color": "#2a3f5f"
            },
            "marker": {
             "line": {
              "color": "#E5ECF6",
              "width": 0.5
             },
             "pattern": {
              "fillmode": "overlay",
              "size": 10,
              "solidity": 0.2
             }
            },
            "type": "bar"
           }
          ],
          "barpolar": [
           {
            "marker": {
             "line": {
              "color": "#E5ECF6",
              "width": 0.5
             },
             "pattern": {
              "fillmode": "overlay",
              "size": 10,
              "solidity": 0.2
             }
            },
            "type": "barpolar"
           }
          ],
          "carpet": [
           {
            "aaxis": {
             "endlinecolor": "#2a3f5f",
             "gridcolor": "white",
             "linecolor": "white",
             "minorgridcolor": "white",
             "startlinecolor": "#2a3f5f"
            },
            "baxis": {
             "endlinecolor": "#2a3f5f",
             "gridcolor": "white",
             "linecolor": "white",
             "minorgridcolor": "white",
             "startlinecolor": "#2a3f5f"
            },
            "type": "carpet"
           }
          ],
          "choropleth": [
           {
            "colorbar": {
             "outlinewidth": 0,
             "ticks": ""
            },
            "type": "choropleth"
           }
          ],
          "contour": [
           {
            "colorbar": {
             "outlinewidth": 0,
             "ticks": ""
            },
            "colorscale": [
             [
              0,
              "#0d0887"
             ],
             [
              0.1111111111111111,
              "#46039f"
             ],
             [
              0.2222222222222222,
              "#7201a8"
             ],
             [
              0.3333333333333333,
              "#9c179e"
             ],
             [
              0.4444444444444444,
              "#bd3786"
             ],
             [
              0.5555555555555556,
              "#d8576b"
             ],
             [
              0.6666666666666666,
              "#ed7953"
             ],
             [
              0.7777777777777778,
              "#fb9f3a"
             ],
             [
              0.8888888888888888,
              "#fdca26"
             ],
             [
              1,
              "#f0f921"
             ]
            ],
            "type": "contour"
           }
          ],
          "contourcarpet": [
           {
            "colorbar": {
             "outlinewidth": 0,
             "ticks": ""
            },
            "type": "contourcarpet"
           }
          ],
          "heatmap": [
           {
            "colorbar": {
             "outlinewidth": 0,
             "ticks": ""
            },
            "colorscale": [
             [
              0,
              "#0d0887"
             ],
             [
              0.1111111111111111,
              "#46039f"
             ],
             [
              0.2222222222222222,
              "#7201a8"
             ],
             [
              0.3333333333333333,
              "#9c179e"
             ],
             [
              0.4444444444444444,
              "#bd3786"
             ],
             [
              0.5555555555555556,
              "#d8576b"
             ],
             [
              0.6666666666666666,
              "#ed7953"
             ],
             [
              0.7777777777777778,
              "#fb9f3a"
             ],
             [
              0.8888888888888888,
              "#fdca26"
             ],
             [
              1,
              "#f0f921"
             ]
            ],
            "type": "heatmap"
           }
          ],
          "heatmapgl": [
           {
            "colorbar": {
             "outlinewidth": 0,
             "ticks": ""
            },
            "colorscale": [
             [
              0,
              "#0d0887"
             ],
             [
              0.1111111111111111,
              "#46039f"
             ],
             [
              0.2222222222222222,
              "#7201a8"
             ],
             [
              0.3333333333333333,
              "#9c179e"
             ],
             [
              0.4444444444444444,
              "#bd3786"
             ],
             [
              0.5555555555555556,
              "#d8576b"
             ],
             [
              0.6666666666666666,
              "#ed7953"
             ],
             [
              0.7777777777777778,
              "#fb9f3a"
             ],
             [
              0.8888888888888888,
              "#fdca26"
             ],
             [
              1,
              "#f0f921"
             ]
            ],
            "type": "heatmapgl"
           }
          ],
          "histogram": [
           {
            "marker": {
             "pattern": {
              "fillmode": "overlay",
              "size": 10,
              "solidity": 0.2
             }
            },
            "type": "histogram"
           }
          ],
          "histogram2d": [
           {
            "colorbar": {
             "outlinewidth": 0,
             "ticks": ""
            },
            "colorscale": [
             [
              0,
              "#0d0887"
             ],
             [
              0.1111111111111111,
              "#46039f"
             ],
             [
              0.2222222222222222,
              "#7201a8"
             ],
             [
              0.3333333333333333,
              "#9c179e"
             ],
             [
              0.4444444444444444,
              "#bd3786"
             ],
             [
              0.5555555555555556,
              "#d8576b"
             ],
             [
              0.6666666666666666,
              "#ed7953"
             ],
             [
              0.7777777777777778,
              "#fb9f3a"
             ],
             [
              0.8888888888888888,
              "#fdca26"
             ],
             [
              1,
              "#f0f921"
             ]
            ],
            "type": "histogram2d"
           }
          ],
          "histogram2dcontour": [
           {
            "colorbar": {
             "outlinewidth": 0,
             "ticks": ""
            },
            "colorscale": [
             [
              0,
              "#0d0887"
             ],
             [
              0.1111111111111111,
              "#46039f"
             ],
             [
              0.2222222222222222,
              "#7201a8"
             ],
             [
              0.3333333333333333,
              "#9c179e"
             ],
             [
              0.4444444444444444,
              "#bd3786"
             ],
             [
              0.5555555555555556,
              "#d8576b"
             ],
             [
              0.6666666666666666,
              "#ed7953"
             ],
             [
              0.7777777777777778,
              "#fb9f3a"
             ],
             [
              0.8888888888888888,
              "#fdca26"
             ],
             [
              1,
              "#f0f921"
             ]
            ],
            "type": "histogram2dcontour"
           }
          ],
          "mesh3d": [
           {
            "colorbar": {
             "outlinewidth": 0,
             "ticks": ""
            },
            "type": "mesh3d"
           }
          ],
          "parcoords": [
           {
            "line": {
             "colorbar": {
              "outlinewidth": 0,
              "ticks": ""
             }
            },
            "type": "parcoords"
           }
          ],
          "pie": [
           {
            "automargin": true,
            "type": "pie"
           }
          ],
          "scatter": [
           {
            "fillpattern": {
             "fillmode": "overlay",
             "size": 10,
             "solidity": 0.2
            },
            "type": "scatter"
           }
          ],
          "scatter3d": [
           {
            "line": {
             "colorbar": {
              "outlinewidth": 0,
              "ticks": ""
             }
            },
            "marker": {
             "colorbar": {
              "outlinewidth": 0,
              "ticks": ""
             }
            },
            "type": "scatter3d"
           }
          ],
          "scattercarpet": [
           {
            "marker": {
             "colorbar": {
              "outlinewidth": 0,
              "ticks": ""
             }
            },
            "type": "scattercarpet"
           }
          ],
          "scattergeo": [
           {
            "marker": {
             "colorbar": {
              "outlinewidth": 0,
              "ticks": ""
             }
            },
            "type": "scattergeo"
           }
          ],
          "scattergl": [
           {
            "marker": {
             "colorbar": {
              "outlinewidth": 0,
              "ticks": ""
             }
            },
            "type": "scattergl"
           }
          ],
          "scattermapbox": [
           {
            "marker": {
             "colorbar": {
              "outlinewidth": 0,
              "ticks": ""
             }
            },
            "type": "scattermapbox"
           }
          ],
          "scatterpolar": [
           {
            "marker": {
             "colorbar": {
              "outlinewidth": 0,
              "ticks": ""
             }
            },
            "type": "scatterpolar"
           }
          ],
          "scatterpolargl": [
           {
            "marker": {
             "colorbar": {
              "outlinewidth": 0,
              "ticks": ""
             }
            },
            "type": "scatterpolargl"
           }
          ],
          "scatterternary": [
           {
            "marker": {
             "colorbar": {
              "outlinewidth": 0,
              "ticks": ""
             }
            },
            "type": "scatterternary"
           }
          ],
          "surface": [
           {
            "colorbar": {
             "outlinewidth": 0,
             "ticks": ""
            },
            "colorscale": [
             [
              0,
              "#0d0887"
             ],
             [
              0.1111111111111111,
              "#46039f"
             ],
             [
              0.2222222222222222,
              "#7201a8"
             ],
             [
              0.3333333333333333,
              "#9c179e"
             ],
             [
              0.4444444444444444,
              "#bd3786"
             ],
             [
              0.5555555555555556,
              "#d8576b"
             ],
             [
              0.6666666666666666,
              "#ed7953"
             ],
             [
              0.7777777777777778,
              "#fb9f3a"
             ],
             [
              0.8888888888888888,
              "#fdca26"
             ],
             [
              1,
              "#f0f921"
             ]
            ],
            "type": "surface"
           }
          ],
          "table": [
           {
            "cells": {
             "fill": {
              "color": "#EBF0F8"
             },
             "line": {
              "color": "white"
             }
            },
            "header": {
             "fill": {
              "color": "#C8D4E3"
             },
             "line": {
              "color": "white"
             }
            },
            "type": "table"
           }
          ]
         },
         "layout": {
          "annotationdefaults": {
           "arrowcolor": "#2a3f5f",
           "arrowhead": 0,
           "arrowwidth": 1
          },
          "autotypenumbers": "strict",
          "coloraxis": {
           "colorbar": {
            "outlinewidth": 0,
            "ticks": ""
           }
          },
          "colorscale": {
           "diverging": [
            [
             0,
             "#8e0152"
            ],
            [
             0.1,
             "#c51b7d"
            ],
            [
             0.2,
             "#de77ae"
            ],
            [
             0.3,
             "#f1b6da"
            ],
            [
             0.4,
             "#fde0ef"
            ],
            [
             0.5,
             "#f7f7f7"
            ],
            [
             0.6,
             "#e6f5d0"
            ],
            [
             0.7,
             "#b8e186"
            ],
            [
             0.8,
             "#7fbc41"
            ],
            [
             0.9,
             "#4d9221"
            ],
            [
             1,
             "#276419"
            ]
           ],
           "sequential": [
            [
             0,
             "#0d0887"
            ],
            [
             0.1111111111111111,
             "#46039f"
            ],
            [
             0.2222222222222222,
             "#7201a8"
            ],
            [
             0.3333333333333333,
             "#9c179e"
            ],
            [
             0.4444444444444444,
             "#bd3786"
            ],
            [
             0.5555555555555556,
             "#d8576b"
            ],
            [
             0.6666666666666666,
             "#ed7953"
            ],
            [
             0.7777777777777778,
             "#fb9f3a"
            ],
            [
             0.8888888888888888,
             "#fdca26"
            ],
            [
             1,
             "#f0f921"
            ]
           ],
           "sequentialminus": [
            [
             0,
             "#0d0887"
            ],
            [
             0.1111111111111111,
             "#46039f"
            ],
            [
             0.2222222222222222,
             "#7201a8"
            ],
            [
             0.3333333333333333,
             "#9c179e"
            ],
            [
             0.4444444444444444,
             "#bd3786"
            ],
            [
             0.5555555555555556,
             "#d8576b"
            ],
            [
             0.6666666666666666,
             "#ed7953"
            ],
            [
             0.7777777777777778,
             "#fb9f3a"
            ],
            [
             0.8888888888888888,
             "#fdca26"
            ],
            [
             1,
             "#f0f921"
            ]
           ]
          },
          "colorway": [
           "#636efa",
           "#EF553B",
           "#00cc96",
           "#ab63fa",
           "#FFA15A",
           "#19d3f3",
           "#FF6692",
           "#B6E880",
           "#FF97FF",
           "#FECB52"
          ],
          "font": {
           "color": "#2a3f5f"
          },
          "geo": {
           "bgcolor": "white",
           "lakecolor": "white",
           "landcolor": "#E5ECF6",
           "showlakes": true,
           "showland": true,
           "subunitcolor": "white"
          },
          "hoverlabel": {
           "align": "left"
          },
          "hovermode": "closest",
          "mapbox": {
           "style": "light"
          },
          "paper_bgcolor": "white",
          "plot_bgcolor": "#E5ECF6",
          "polar": {
           "angularaxis": {
            "gridcolor": "white",
            "linecolor": "white",
            "ticks": ""
           },
           "bgcolor": "#E5ECF6",
           "radialaxis": {
            "gridcolor": "white",
            "linecolor": "white",
            "ticks": ""
           }
          },
          "scene": {
           "xaxis": {
            "backgroundcolor": "#E5ECF6",
            "gridcolor": "white",
            "gridwidth": 2,
            "linecolor": "white",
            "showbackground": true,
            "ticks": "",
            "zerolinecolor": "white"
           },
           "yaxis": {
            "backgroundcolor": "#E5ECF6",
            "gridcolor": "white",
            "gridwidth": 2,
            "linecolor": "white",
            "showbackground": true,
            "ticks": "",
            "zerolinecolor": "white"
           },
           "zaxis": {
            "backgroundcolor": "#E5ECF6",
            "gridcolor": "white",
            "gridwidth": 2,
            "linecolor": "white",
            "showbackground": true,
            "ticks": "",
            "zerolinecolor": "white"
           }
          },
          "shapedefaults": {
           "line": {
            "color": "#2a3f5f"
           }
          },
          "ternary": {
           "aaxis": {
            "gridcolor": "white",
            "linecolor": "white",
            "ticks": ""
           },
           "baxis": {
            "gridcolor": "white",
            "linecolor": "white",
            "ticks": ""
           },
           "bgcolor": "#E5ECF6",
           "caxis": {
            "gridcolor": "white",
            "linecolor": "white",
            "ticks": ""
           }
          },
          "title": {
           "x": 0.05
          },
          "xaxis": {
           "automargin": true,
           "gridcolor": "white",
           "linecolor": "white",
           "ticks": "",
           "title": {
            "standoff": 15
           },
           "zerolinecolor": "white",
           "zerolinewidth": 2
          },
          "yaxis": {
           "automargin": true,
           "gridcolor": "white",
           "linecolor": "white",
           "ticks": "",
           "title": {
            "standoff": 15
           },
           "zerolinecolor": "white",
           "zerolinewidth": 2
          }
         }
        },
        "title": {
         "text": "Number of characters in episode summaries"
        },
        "width": 1024,
        "xaxis": {
         "anchor": "y",
         "domain": [
          0,
          1
         ],
         "title": {
          "text": "Number of characters"
         }
        },
        "yaxis": {
         "anchor": "x",
         "domain": [
          0,
          1
         ],
         "title": {
          "text": "Count"
         }
        }
       }
      }
     },
     "metadata": {},
     "output_type": "display_data"
    }
   ],
   "source": [
    "px.histogram(\n",
    "    friends_episodes_description_df['summary_char_length'], \n",
    "    nbins=30, \n",
    "    title='Number of characters in episode summaries',\n",
    "    width=1024,\n",
    "    height=512\n",
    ").update_layout(\n",
    "    xaxis_title='Number of characters',\n",
    "    yaxis_title='Count',\n",
    "    showlegend=False\n",
    ")"
   ]
  },
  {
   "cell_type": "code",
   "execution_count": 7,
   "metadata": {},
   "outputs": [
    {
     "data": {
      "application/vnd.plotly.v1+json": {
       "config": {
        "plotlyServerURL": "https://plot.ly"
       },
       "data": [
        {
         "alignmentgroup": "True",
         "bingroup": "x",
         "hovertemplate": "variable=summary_word_length<br>value=%{x}<br>count=%{y}<extra></extra>",
         "legendgroup": "summary_word_length",
         "marker": {
          "color": "#636efa",
          "pattern": {
           "shape": ""
          }
         },
         "name": "summary_word_length",
         "nbinsx": 30,
         "offsetgroup": "summary_word_length",
         "orientation": "v",
         "showlegend": true,
         "type": "histogram",
         "x": [
          21,
          29,
          36,
          41,
          42,
          41,
          30,
          22,
          20,
          36,
          29,
          42,
          34,
          43,
          34,
          28,
          24,
          20,
          14,
          33,
          30,
          32,
          26,
          32,
          35,
          38,
          33,
          37,
          25,
          31,
          41,
          40,
          30,
          32,
          31,
          42,
          33,
          23,
          42,
          41,
          38,
          44,
          50,
          42,
          48,
          34,
          38,
          48,
          32,
          36,
          35,
          48,
          38,
          17,
          40,
          43,
          26,
          43,
          39,
          44,
          36,
          27,
          31,
          45,
          22,
          45,
          41,
          31,
          44,
          42,
          41,
          43,
          31,
          27,
          34,
          48,
          39,
          32,
          45,
          32,
          48,
          45,
          43,
          38,
          40,
          42,
          45,
          45,
          32,
          42,
          33,
          19,
          43,
          30,
          42,
          37,
          49,
          27,
          47,
          42,
          44,
          26,
          35,
          30,
          12,
          32,
          38,
          35,
          38,
          46,
          21,
          46,
          39,
          33,
          46,
          36,
          22,
          45,
          49,
          36,
          32,
          39,
          31,
          36,
          34,
          30,
          31,
          34,
          34,
          48,
          49,
          32,
          37,
          27,
          48,
          21,
          14,
          31,
          25,
          35,
          25,
          39,
          31,
          23,
          34,
          28,
          32,
          39,
          38,
          40,
          38,
          33,
          40,
          39,
          27,
          33,
          29,
          27,
          29,
          18,
          42,
          35,
          38,
          44,
          30,
          26,
          32,
          29,
          45,
          17,
          33,
          23,
          43,
          39,
          45,
          40,
          28,
          35,
          26,
          33,
          37,
          40,
          31,
          19,
          17,
          43,
          42,
          28,
          25,
          60,
          46,
          35,
          46,
          16,
          19,
          26,
          25,
          9,
          32,
          33,
          37,
          15,
          23,
          38,
          33,
          29,
          30,
          27,
          40,
          43,
          42,
          47,
          44,
          28,
          41,
          42,
          42,
          41,
          27,
          40,
          45,
          34,
          40,
          30,
          36,
          29,
          40,
          39,
          34,
          11,
          28,
          41,
          30,
          17,
          40,
          47
         ],
         "xaxis": "x",
         "yaxis": "y"
        }
       ],
       "layout": {
        "barmode": "relative",
        "height": 512,
        "legend": {
         "title": {
          "text": "variable"
         },
         "tracegroupgap": 0
        },
        "showlegend": false,
        "template": {
         "data": {
          "bar": [
           {
            "error_x": {
             "color": "#2a3f5f"
            },
            "error_y": {
             "color": "#2a3f5f"
            },
            "marker": {
             "line": {
              "color": "#E5ECF6",
              "width": 0.5
             },
             "pattern": {
              "fillmode": "overlay",
              "size": 10,
              "solidity": 0.2
             }
            },
            "type": "bar"
           }
          ],
          "barpolar": [
           {
            "marker": {
             "line": {
              "color": "#E5ECF6",
              "width": 0.5
             },
             "pattern": {
              "fillmode": "overlay",
              "size": 10,
              "solidity": 0.2
             }
            },
            "type": "barpolar"
           }
          ],
          "carpet": [
           {
            "aaxis": {
             "endlinecolor": "#2a3f5f",
             "gridcolor": "white",
             "linecolor": "white",
             "minorgridcolor": "white",
             "startlinecolor": "#2a3f5f"
            },
            "baxis": {
             "endlinecolor": "#2a3f5f",
             "gridcolor": "white",
             "linecolor": "white",
             "minorgridcolor": "white",
             "startlinecolor": "#2a3f5f"
            },
            "type": "carpet"
           }
          ],
          "choropleth": [
           {
            "colorbar": {
             "outlinewidth": 0,
             "ticks": ""
            },
            "type": "choropleth"
           }
          ],
          "contour": [
           {
            "colorbar": {
             "outlinewidth": 0,
             "ticks": ""
            },
            "colorscale": [
             [
              0,
              "#0d0887"
             ],
             [
              0.1111111111111111,
              "#46039f"
             ],
             [
              0.2222222222222222,
              "#7201a8"
             ],
             [
              0.3333333333333333,
              "#9c179e"
             ],
             [
              0.4444444444444444,
              "#bd3786"
             ],
             [
              0.5555555555555556,
              "#d8576b"
             ],
             [
              0.6666666666666666,
              "#ed7953"
             ],
             [
              0.7777777777777778,
              "#fb9f3a"
             ],
             [
              0.8888888888888888,
              "#fdca26"
             ],
             [
              1,
              "#f0f921"
             ]
            ],
            "type": "contour"
           }
          ],
          "contourcarpet": [
           {
            "colorbar": {
             "outlinewidth": 0,
             "ticks": ""
            },
            "type": "contourcarpet"
           }
          ],
          "heatmap": [
           {
            "colorbar": {
             "outlinewidth": 0,
             "ticks": ""
            },
            "colorscale": [
             [
              0,
              "#0d0887"
             ],
             [
              0.1111111111111111,
              "#46039f"
             ],
             [
              0.2222222222222222,
              "#7201a8"
             ],
             [
              0.3333333333333333,
              "#9c179e"
             ],
             [
              0.4444444444444444,
              "#bd3786"
             ],
             [
              0.5555555555555556,
              "#d8576b"
             ],
             [
              0.6666666666666666,
              "#ed7953"
             ],
             [
              0.7777777777777778,
              "#fb9f3a"
             ],
             [
              0.8888888888888888,
              "#fdca26"
             ],
             [
              1,
              "#f0f921"
             ]
            ],
            "type": "heatmap"
           }
          ],
          "heatmapgl": [
           {
            "colorbar": {
             "outlinewidth": 0,
             "ticks": ""
            },
            "colorscale": [
             [
              0,
              "#0d0887"
             ],
             [
              0.1111111111111111,
              "#46039f"
             ],
             [
              0.2222222222222222,
              "#7201a8"
             ],
             [
              0.3333333333333333,
              "#9c179e"
             ],
             [
              0.4444444444444444,
              "#bd3786"
             ],
             [
              0.5555555555555556,
              "#d8576b"
             ],
             [
              0.6666666666666666,
              "#ed7953"
             ],
             [
              0.7777777777777778,
              "#fb9f3a"
             ],
             [
              0.8888888888888888,
              "#fdca26"
             ],
             [
              1,
              "#f0f921"
             ]
            ],
            "type": "heatmapgl"
           }
          ],
          "histogram": [
           {
            "marker": {
             "pattern": {
              "fillmode": "overlay",
              "size": 10,
              "solidity": 0.2
             }
            },
            "type": "histogram"
           }
          ],
          "histogram2d": [
           {
            "colorbar": {
             "outlinewidth": 0,
             "ticks": ""
            },
            "colorscale": [
             [
              0,
              "#0d0887"
             ],
             [
              0.1111111111111111,
              "#46039f"
             ],
             [
              0.2222222222222222,
              "#7201a8"
             ],
             [
              0.3333333333333333,
              "#9c179e"
             ],
             [
              0.4444444444444444,
              "#bd3786"
             ],
             [
              0.5555555555555556,
              "#d8576b"
             ],
             [
              0.6666666666666666,
              "#ed7953"
             ],
             [
              0.7777777777777778,
              "#fb9f3a"
             ],
             [
              0.8888888888888888,
              "#fdca26"
             ],
             [
              1,
              "#f0f921"
             ]
            ],
            "type": "histogram2d"
           }
          ],
          "histogram2dcontour": [
           {
            "colorbar": {
             "outlinewidth": 0,
             "ticks": ""
            },
            "colorscale": [
             [
              0,
              "#0d0887"
             ],
             [
              0.1111111111111111,
              "#46039f"
             ],
             [
              0.2222222222222222,
              "#7201a8"
             ],
             [
              0.3333333333333333,
              "#9c179e"
             ],
             [
              0.4444444444444444,
              "#bd3786"
             ],
             [
              0.5555555555555556,
              "#d8576b"
             ],
             [
              0.6666666666666666,
              "#ed7953"
             ],
             [
              0.7777777777777778,
              "#fb9f3a"
             ],
             [
              0.8888888888888888,
              "#fdca26"
             ],
             [
              1,
              "#f0f921"
             ]
            ],
            "type": "histogram2dcontour"
           }
          ],
          "mesh3d": [
           {
            "colorbar": {
             "outlinewidth": 0,
             "ticks": ""
            },
            "type": "mesh3d"
           }
          ],
          "parcoords": [
           {
            "line": {
             "colorbar": {
              "outlinewidth": 0,
              "ticks": ""
             }
            },
            "type": "parcoords"
           }
          ],
          "pie": [
           {
            "automargin": true,
            "type": "pie"
           }
          ],
          "scatter": [
           {
            "fillpattern": {
             "fillmode": "overlay",
             "size": 10,
             "solidity": 0.2
            },
            "type": "scatter"
           }
          ],
          "scatter3d": [
           {
            "line": {
             "colorbar": {
              "outlinewidth": 0,
              "ticks": ""
             }
            },
            "marker": {
             "colorbar": {
              "outlinewidth": 0,
              "ticks": ""
             }
            },
            "type": "scatter3d"
           }
          ],
          "scattercarpet": [
           {
            "marker": {
             "colorbar": {
              "outlinewidth": 0,
              "ticks": ""
             }
            },
            "type": "scattercarpet"
           }
          ],
          "scattergeo": [
           {
            "marker": {
             "colorbar": {
              "outlinewidth": 0,
              "ticks": ""
             }
            },
            "type": "scattergeo"
           }
          ],
          "scattergl": [
           {
            "marker": {
             "colorbar": {
              "outlinewidth": 0,
              "ticks": ""
             }
            },
            "type": "scattergl"
           }
          ],
          "scattermapbox": [
           {
            "marker": {
             "colorbar": {
              "outlinewidth": 0,
              "ticks": ""
             }
            },
            "type": "scattermapbox"
           }
          ],
          "scatterpolar": [
           {
            "marker": {
             "colorbar": {
              "outlinewidth": 0,
              "ticks": ""
             }
            },
            "type": "scatterpolar"
           }
          ],
          "scatterpolargl": [
           {
            "marker": {
             "colorbar": {
              "outlinewidth": 0,
              "ticks": ""
             }
            },
            "type": "scatterpolargl"
           }
          ],
          "scatterternary": [
           {
            "marker": {
             "colorbar": {
              "outlinewidth": 0,
              "ticks": ""
             }
            },
            "type": "scatterternary"
           }
          ],
          "surface": [
           {
            "colorbar": {
             "outlinewidth": 0,
             "ticks": ""
            },
            "colorscale": [
             [
              0,
              "#0d0887"
             ],
             [
              0.1111111111111111,
              "#46039f"
             ],
             [
              0.2222222222222222,
              "#7201a8"
             ],
             [
              0.3333333333333333,
              "#9c179e"
             ],
             [
              0.4444444444444444,
              "#bd3786"
             ],
             [
              0.5555555555555556,
              "#d8576b"
             ],
             [
              0.6666666666666666,
              "#ed7953"
             ],
             [
              0.7777777777777778,
              "#fb9f3a"
             ],
             [
              0.8888888888888888,
              "#fdca26"
             ],
             [
              1,
              "#f0f921"
             ]
            ],
            "type": "surface"
           }
          ],
          "table": [
           {
            "cells": {
             "fill": {
              "color": "#EBF0F8"
             },
             "line": {
              "color": "white"
             }
            },
            "header": {
             "fill": {
              "color": "#C8D4E3"
             },
             "line": {
              "color": "white"
             }
            },
            "type": "table"
           }
          ]
         },
         "layout": {
          "annotationdefaults": {
           "arrowcolor": "#2a3f5f",
           "arrowhead": 0,
           "arrowwidth": 1
          },
          "autotypenumbers": "strict",
          "coloraxis": {
           "colorbar": {
            "outlinewidth": 0,
            "ticks": ""
           }
          },
          "colorscale": {
           "diverging": [
            [
             0,
             "#8e0152"
            ],
            [
             0.1,
             "#c51b7d"
            ],
            [
             0.2,
             "#de77ae"
            ],
            [
             0.3,
             "#f1b6da"
            ],
            [
             0.4,
             "#fde0ef"
            ],
            [
             0.5,
             "#f7f7f7"
            ],
            [
             0.6,
             "#e6f5d0"
            ],
            [
             0.7,
             "#b8e186"
            ],
            [
             0.8,
             "#7fbc41"
            ],
            [
             0.9,
             "#4d9221"
            ],
            [
             1,
             "#276419"
            ]
           ],
           "sequential": [
            [
             0,
             "#0d0887"
            ],
            [
             0.1111111111111111,
             "#46039f"
            ],
            [
             0.2222222222222222,
             "#7201a8"
            ],
            [
             0.3333333333333333,
             "#9c179e"
            ],
            [
             0.4444444444444444,
             "#bd3786"
            ],
            [
             0.5555555555555556,
             "#d8576b"
            ],
            [
             0.6666666666666666,
             "#ed7953"
            ],
            [
             0.7777777777777778,
             "#fb9f3a"
            ],
            [
             0.8888888888888888,
             "#fdca26"
            ],
            [
             1,
             "#f0f921"
            ]
           ],
           "sequentialminus": [
            [
             0,
             "#0d0887"
            ],
            [
             0.1111111111111111,
             "#46039f"
            ],
            [
             0.2222222222222222,
             "#7201a8"
            ],
            [
             0.3333333333333333,
             "#9c179e"
            ],
            [
             0.4444444444444444,
             "#bd3786"
            ],
            [
             0.5555555555555556,
             "#d8576b"
            ],
            [
             0.6666666666666666,
             "#ed7953"
            ],
            [
             0.7777777777777778,
             "#fb9f3a"
            ],
            [
             0.8888888888888888,
             "#fdca26"
            ],
            [
             1,
             "#f0f921"
            ]
           ]
          },
          "colorway": [
           "#636efa",
           "#EF553B",
           "#00cc96",
           "#ab63fa",
           "#FFA15A",
           "#19d3f3",
           "#FF6692",
           "#B6E880",
           "#FF97FF",
           "#FECB52"
          ],
          "font": {
           "color": "#2a3f5f"
          },
          "geo": {
           "bgcolor": "white",
           "lakecolor": "white",
           "landcolor": "#E5ECF6",
           "showlakes": true,
           "showland": true,
           "subunitcolor": "white"
          },
          "hoverlabel": {
           "align": "left"
          },
          "hovermode": "closest",
          "mapbox": {
           "style": "light"
          },
          "paper_bgcolor": "white",
          "plot_bgcolor": "#E5ECF6",
          "polar": {
           "angularaxis": {
            "gridcolor": "white",
            "linecolor": "white",
            "ticks": ""
           },
           "bgcolor": "#E5ECF6",
           "radialaxis": {
            "gridcolor": "white",
            "linecolor": "white",
            "ticks": ""
           }
          },
          "scene": {
           "xaxis": {
            "backgroundcolor": "#E5ECF6",
            "gridcolor": "white",
            "gridwidth": 2,
            "linecolor": "white",
            "showbackground": true,
            "ticks": "",
            "zerolinecolor": "white"
           },
           "yaxis": {
            "backgroundcolor": "#E5ECF6",
            "gridcolor": "white",
            "gridwidth": 2,
            "linecolor": "white",
            "showbackground": true,
            "ticks": "",
            "zerolinecolor": "white"
           },
           "zaxis": {
            "backgroundcolor": "#E5ECF6",
            "gridcolor": "white",
            "gridwidth": 2,
            "linecolor": "white",
            "showbackground": true,
            "ticks": "",
            "zerolinecolor": "white"
           }
          },
          "shapedefaults": {
           "line": {
            "color": "#2a3f5f"
           }
          },
          "ternary": {
           "aaxis": {
            "gridcolor": "white",
            "linecolor": "white",
            "ticks": ""
           },
           "baxis": {
            "gridcolor": "white",
            "linecolor": "white",
            "ticks": ""
           },
           "bgcolor": "#E5ECF6",
           "caxis": {
            "gridcolor": "white",
            "linecolor": "white",
            "ticks": ""
           }
          },
          "title": {
           "x": 0.05
          },
          "xaxis": {
           "automargin": true,
           "gridcolor": "white",
           "linecolor": "white",
           "ticks": "",
           "title": {
            "standoff": 15
           },
           "zerolinecolor": "white",
           "zerolinewidth": 2
          },
          "yaxis": {
           "automargin": true,
           "gridcolor": "white",
           "linecolor": "white",
           "ticks": "",
           "title": {
            "standoff": 15
           },
           "zerolinecolor": "white",
           "zerolinewidth": 2
          }
         }
        },
        "title": {
         "text": "Number of words in episode summaries"
        },
        "width": 1024,
        "xaxis": {
         "anchor": "y",
         "domain": [
          0,
          1
         ],
         "title": {
          "text": "Number of words"
         }
        },
        "yaxis": {
         "anchor": "x",
         "domain": [
          0,
          1
         ],
         "title": {
          "text": "Count"
         }
        }
       }
      }
     },
     "metadata": {},
     "output_type": "display_data"
    }
   ],
   "source": [
    "px.histogram(\n",
    "    friends_episodes_description_df['summary_word_length'], \n",
    "    nbins=30, \n",
    "    title='Number of words in episode summaries',\n",
    "    width=1024,\n",
    "    height=512\n",
    ").update_layout(\n",
    "    xaxis_title='Number of words',\n",
    "    yaxis_title='Count',\n",
    "    showlegend=False\n",
    ")"
   ]
  },
  {
   "cell_type": "markdown",
   "metadata": {},
   "source": [
    "For a better understanding of the episode, let's concatenate the title of the episode to the description"
   ]
  },
  {
   "cell_type": "code",
   "execution_count": 8,
   "metadata": {},
   "outputs": [
    {
     "data": {
      "text/html": [
       "<div>\n",
       "<style scoped>\n",
       "    .dataframe tbody tr th:only-of-type {\n",
       "        vertical-align: middle;\n",
       "    }\n",
       "\n",
       "    .dataframe tbody tr th {\n",
       "        vertical-align: top;\n",
       "    }\n",
       "\n",
       "    .dataframe thead th {\n",
       "        text-align: right;\n",
       "    }\n",
       "</style>\n",
       "<table border=\"1\" class=\"dataframe\">\n",
       "  <thead>\n",
       "    <tr style=\"text-align: right;\">\n",
       "      <th></th>\n",
       "      <th>Year_of_prod</th>\n",
       "      <th>Season</th>\n",
       "      <th>Episode Number</th>\n",
       "      <th>Episode_Title</th>\n",
       "      <th>Duration</th>\n",
       "      <th>Summary</th>\n",
       "      <th>Director</th>\n",
       "      <th>Stars</th>\n",
       "      <th>Votes</th>\n",
       "      <th>summary_char_length</th>\n",
       "      <th>summary_word_length</th>\n",
       "      <th>title_summary</th>\n",
       "    </tr>\n",
       "  </thead>\n",
       "  <tbody>\n",
       "    <tr>\n",
       "      <th>0</th>\n",
       "      <td>1994</td>\n",
       "      <td>1</td>\n",
       "      <td>1</td>\n",
       "      <td>The One Where Monica Gets a Roommate: The Pilot</td>\n",
       "      <td>22</td>\n",
       "      <td>Monica and the gang introduce Rachel to the \"r...</td>\n",
       "      <td>James Burrows</td>\n",
       "      <td>8.3</td>\n",
       "      <td>7440</td>\n",
       "      <td>98</td>\n",
       "      <td>21</td>\n",
       "      <td>The One Where Monica Gets a Roommate: The Pilo...</td>\n",
       "    </tr>\n",
       "    <tr>\n",
       "      <th>1</th>\n",
       "      <td>1994</td>\n",
       "      <td>1</td>\n",
       "      <td>2</td>\n",
       "      <td>The One with the Sonogram at the End</td>\n",
       "      <td>22</td>\n",
       "      <td>Ross finds out his ex-wife is pregnant. Rachel...</td>\n",
       "      <td>James Burrows</td>\n",
       "      <td>8.1</td>\n",
       "      <td>4888</td>\n",
       "      <td>151</td>\n",
       "      <td>29</td>\n",
       "      <td>The One with the Sonogram at the End : Ross fi...</td>\n",
       "    </tr>\n",
       "    <tr>\n",
       "      <th>2</th>\n",
       "      <td>1994</td>\n",
       "      <td>1</td>\n",
       "      <td>3</td>\n",
       "      <td>The One with the Thumb</td>\n",
       "      <td>22</td>\n",
       "      <td>Monica becomes irritated when everyone likes h...</td>\n",
       "      <td>James Burrows</td>\n",
       "      <td>8.2</td>\n",
       "      <td>4605</td>\n",
       "      <td>181</td>\n",
       "      <td>36</td>\n",
       "      <td>The One with the Thumb : Monica becomes irrita...</td>\n",
       "    </tr>\n",
       "    <tr>\n",
       "      <th>3</th>\n",
       "      <td>1994</td>\n",
       "      <td>1</td>\n",
       "      <td>4</td>\n",
       "      <td>The One with George Stephanopoulos</td>\n",
       "      <td>22</td>\n",
       "      <td>Joey and Chandler take Ross to a hockey game t...</td>\n",
       "      <td>James Burrows</td>\n",
       "      <td>8.1</td>\n",
       "      <td>4468</td>\n",
       "      <td>197</td>\n",
       "      <td>41</td>\n",
       "      <td>The One with George Stephanopoulos : Joey and ...</td>\n",
       "    </tr>\n",
       "    <tr>\n",
       "      <th>4</th>\n",
       "      <td>1994</td>\n",
       "      <td>1</td>\n",
       "      <td>5</td>\n",
       "      <td>The One with the East German Laundry Detergent</td>\n",
       "      <td>22</td>\n",
       "      <td>Eager to spend time with Rachel, Ross pretends...</td>\n",
       "      <td>Pamela Fryman</td>\n",
       "      <td>8.5</td>\n",
       "      <td>4438</td>\n",
       "      <td>220</td>\n",
       "      <td>42</td>\n",
       "      <td>The One with the East German Laundry Detergent...</td>\n",
       "    </tr>\n",
       "  </tbody>\n",
       "</table>\n",
       "</div>"
      ],
      "text/plain": [
       "   Year_of_prod  Season  Episode Number  \\\n",
       "0          1994       1               1   \n",
       "1          1994       1               2   \n",
       "2          1994       1               3   \n",
       "3          1994       1               4   \n",
       "4          1994       1               5   \n",
       "\n",
       "                                     Episode_Title  Duration  \\\n",
       "0  The One Where Monica Gets a Roommate: The Pilot        22   \n",
       "1             The One with the Sonogram at the End        22   \n",
       "2                           The One with the Thumb        22   \n",
       "3               The One with George Stephanopoulos        22   \n",
       "4   The One with the East German Laundry Detergent        22   \n",
       "\n",
       "                                             Summary       Director  Stars  \\\n",
       "0  Monica and the gang introduce Rachel to the \"r...  James Burrows    8.3   \n",
       "1  Ross finds out his ex-wife is pregnant. Rachel...  James Burrows    8.1   \n",
       "2  Monica becomes irritated when everyone likes h...  James Burrows    8.2   \n",
       "3  Joey and Chandler take Ross to a hockey game t...  James Burrows    8.1   \n",
       "4  Eager to spend time with Rachel, Ross pretends...  Pamela Fryman    8.5   \n",
       "\n",
       "   Votes  summary_char_length  summary_word_length  \\\n",
       "0   7440                   98                   21   \n",
       "1   4888                  151                   29   \n",
       "2   4605                  181                   36   \n",
       "3   4468                  197                   41   \n",
       "4   4438                  220                   42   \n",
       "\n",
       "                                       title_summary  \n",
       "0  The One Where Monica Gets a Roommate: The Pilo...  \n",
       "1  The One with the Sonogram at the End : Ross fi...  \n",
       "2  The One with the Thumb : Monica becomes irrita...  \n",
       "3  The One with George Stephanopoulos : Joey and ...  \n",
       "4  The One with the East German Laundry Detergent...  "
      ]
     },
     "execution_count": 8,
     "metadata": {},
     "output_type": "execute_result"
    }
   ],
   "source": [
    "friends_episodes_description_df['title_summary'] = friends_episodes_description_df['Episode_Title'] + ' : ' + friends_episodes_description_df['Summary']\n",
    "friends_episodes_description_df.head()"
   ]
  },
  {
   "cell_type": "markdown",
   "metadata": {},
   "source": [
    "### Model Loading"
   ]
  },
  {
   "cell_type": "code",
   "execution_count": 9,
   "metadata": {},
   "outputs": [],
   "source": [
    "# Load right device\n",
    "DEVICE = 'cpu'\n",
    "\n",
    "if torch.cuda.is_available():\n",
    "    DEVICE = 'cuda'\n",
    "elif torch.backends.mps.is_available():\n",
    "    DEVICE = 'mps'"
   ]
  },
  {
   "cell_type": "code",
   "execution_count": 10,
   "metadata": {},
   "outputs": [],
   "source": [
    "# Load bge model used for generating embeddings of summaries\n",
    "model_path = 'BAAI/bge-large-en-v1.5'\n",
    "tokenizer = AutoTokenizer.from_pretrained(model_path)\n",
    "model = AutoModel.from_pretrained(model_path, trust_remote_code=True).to(DEVICE)"
   ]
  },
  {
   "cell_type": "markdown",
   "metadata": {},
   "source": [
    "### Embeddings generation"
   ]
  },
  {
   "cell_type": "code",
   "execution_count": 11,
   "metadata": {},
   "outputs": [],
   "source": [
    "# Convert to HuggingFace dataset for easier batching and better ram handling \n",
    "dataset = Dataset.from_pandas(friends_episodes_description_df)"
   ]
  },
  {
   "cell_type": "code",
   "execution_count": 12,
   "metadata": {},
   "outputs": [],
   "source": [
    "MAX_LENGTH_TOKENS = 64 # Summaries are usually not more than 60 words\n",
    "\n",
    "def generate_embeddings(summaries):\n",
    "    \"\"\"Converts a list of summaries into a list containing their respective summaries\"\"\"\n",
    "    tokenized_summaries = tokenizer(summaries, max_length=MAX_LENGTH_TOKENS, padding=True, truncation=True, return_tensors='pt')\n",
    "    tokenized_summaries.to(DEVICE)\n",
    "    outputs = model(**tokenized_summaries)\n",
    "    embeddings = outputs.last_hidden_state[:, 0]\n",
    "    normalized_embeddings = F.normalize(embeddings, p=2, dim=1)\n",
    "    return {'embeddings' : normalized_embeddings}"
   ]
  },
  {
   "cell_type": "code",
   "execution_count": 13,
   "metadata": {},
   "outputs": [
    {
     "name": "stderr",
     "output_type": "stream",
     "text": [
      "Map: 100%|██████████| 236/236 [00:04<00:00, 55.16 examples/s]\n"
     ]
    }
   ],
   "source": [
    "# Generate embeddings from summaries (with added title)\n",
    "dataset = dataset.map(lambda x: generate_embeddings(x['title_summary']), batched=True, batch_size=8)"
   ]
  },
  {
   "cell_type": "code",
   "execution_count": 14,
   "metadata": {},
   "outputs": [],
   "source": [
    "friends_episodes_description_df['embeddings'] = dataset['embeddings']"
   ]
  },
  {
   "cell_type": "markdown",
   "metadata": {},
   "source": [
    "### Dimensionality reduction"
   ]
  },
  {
   "cell_type": "code",
   "execution_count": null,
   "metadata": {},
   "outputs": [],
   "source": [
    "manifold = umap.UMAP(random_state=42)\n",
    "reduced_embeddings = manifold.fit_transform(friends_episodes_description_df['embeddings'].tolist())"
   ]
  },
  {
   "cell_type": "markdown",
   "metadata": {},
   "source": [
    "### Clustering\n",
    "\n",
    "We will know cluster the episodes using the embeddings generated by the model"
   ]
  },
  {
   "cell_type": "code",
   "execution_count": 16,
   "metadata": {},
   "outputs": [],
   "source": [
    "\n",
    "def diversity_measure(data):\n",
    "    return len(np.unique(data)) / len(data)\n",
    "\n",
    "def entropy(data):\n",
    "    \"\"\"\n",
    "    Computes the entropy of a distribution divided by the maximum theoretical entropy\n",
    "    \"\"\"\n",
    "    n_unique, counts = np.unique(data, return_counts=True)\n",
    "    probabilities = counts / len(data)\n",
    "    entropy = -np.sum(probabilities * np.log2(probabilities))\n",
    "    return entropy / np.log2(len(n_unique) + 1e-5)\n",
    "\n",
    "def clustering_factor(data):\n",
    "    diversity = diversity_measure(data)\n",
    "    uniformity = entropy(data)\n",
    "    return diversity * 0.5 + uniformity * 0.5\n",
    "\n",
    "def grid_search_db_scans_params(\n",
    "    embeddings, \n",
    "    eps_list,\n",
    "    min_samples_list,\n",
    "    max_clusters = 10 \n",
    "):\n",
    "    \"\"\"\n",
    "    Performs a simple grid search over DBSCAN's parameters eps and min_samples. To find the best configuration,\n",
    "    it checks for the highest number of clusters that is less than `max_clusters`. The entropy and number of\n",
    "    classes is what will be used to evaluate if a configuration is better than another. Ideally, we want high\n",
    "    entropy \n",
    "\n",
    "    Args :\n",
    "        - embeddings : Embeddings used for clustering\n",
    "        - eps_list : List of possible values for the `eps` attribute\n",
    "        - min_samples_list : List of possible values for the `min_samples` attribute\n",
    "        - max_clusters : Max number of clusters we want during clustering. This is used to prevent the ideal \n",
    "        configuration to simply be all samples in different clusters\n",
    "    \"\"\"\n",
    "    max_score = 0\n",
    "    best_params = (eps_list[0], min_samples_list[0])\n",
    "\n",
    "    for eps in tqdm(eps_list, total=len(eps_list)):\n",
    "        for min_samples in min_samples_list:\n",
    "\n",
    "            dbscan = DBSCAN(eps=eps, min_samples=min_samples)\n",
    "            clusters = dbscan.fit(embeddings)\n",
    "            current_score = clustering_factor(clusters.labels_)\n",
    "            nb_clusters = len(np.unique(clusters.labels_))\n",
    "\n",
    "            if max_score < current_score and nb_clusters < max_clusters and nb_clusters > 4:\n",
    "                max_score = current_score\n",
    "                best_params = (eps, min_samples)\n",
    "    return best_params, max_score"
   ]
  },
  {
   "cell_type": "code",
   "execution_count": 17,
   "metadata": {},
   "outputs": [
    {
     "name": "stderr",
     "output_type": "stream",
     "text": [
      "100%|██████████| 99/99 [00:00<00:00, 150.57it/s]\n"
     ]
    },
    {
     "data": {
      "text/plain": [
       "((0.3, 5), np.float64(0.488581374626665))"
      ]
     },
     "execution_count": 17,
     "metadata": {},
     "output_type": "execute_result"
    }
   ],
   "source": [
    "grid_search_db_scans_params(\n",
    "    reduced_embeddings, \n",
    "    eps_list=[x / 10.0 for x in range(1, 100)],\n",
    "    min_samples_list=list(range(1, 10)),\n",
    "    max_clusters=len(dataset) / 10\n",
    ")"
   ]
  },
  {
   "cell_type": "code",
   "execution_count": 18,
   "metadata": {},
   "outputs": [],
   "source": [
    "clustering = DBSCAN(eps=0.3, min_samples=5)\n",
    "clusters = clustering.fit(reduced_embeddings)"
   ]
  },
  {
   "cell_type": "code",
   "execution_count": 19,
   "metadata": {},
   "outputs": [],
   "source": [
    "if 'cluster' in friends_episodes_description_df.columns:\n",
    "    friends_episodes_description_df = friends_episodes_description_df.drop(['cluster'], axis=1)\n",
    "friends_episodes_description_df['cluster'] = clusters.labels_ + 1"
   ]
  },
  {
   "cell_type": "markdown",
   "metadata": {},
   "source": [
    "### Visualization"
   ]
  },
  {
   "cell_type": "code",
   "execution_count": 20,
   "metadata": {},
   "outputs": [],
   "source": [
    "cluster_assignments = clusters.labels_ + 1"
   ]
  },
  {
   "cell_type": "code",
   "execution_count": 21,
   "metadata": {},
   "outputs": [],
   "source": [
    "radii = []\n",
    "centers = []\n",
    "for i in range(len(np.unique(cluster_assignments))):\n",
    "    cluster_points = reduced_embeddings[cluster_assignments == i]\n",
    "    center = np.mean(cluster_points, axis=0)\n",
    "    centers.append(center)\n",
    "    distances = np.linalg.norm(cluster_points - center, axis=1)\n",
    "    radii.append(np.max(distances))\n"
   ]
  },
  {
   "cell_type": "code",
   "execution_count": 22,
   "metadata": {},
   "outputs": [
    {
     "name": "stderr",
     "output_type": "stream",
     "text": [
      "/Users/gayamehenni/Documents/Projects/TheOneWithML/.venv/lib/python3.11/site-packages/plotly/io/_kaleido.py:338: UserWarning:\n",
      "\n",
      "full_figure_for_development is not recommended or necessary for production use in most circumstances. \n",
      "To suppress this warning, set warn=False\n",
      "\n",
      "huggingface/tokenizers: The current process just got forked, after parallelism has already been used. Disabling parallelism to avoid deadlocks...\n",
      "To disable this warning, you can either:\n",
      "\t- Avoid using `tokenizers` before the fork if possible\n",
      "\t- Explicitly set the environment variable TOKENIZERS_PARALLELISM=(true | false)\n"
     ]
    },
    {
     "data": {
      "application/vnd.plotly.v1+json": {
       "config": {
        "plotlyServerURL": "https://plot.ly"
       },
       "data": [
        {
         "cliponaxis": true,
         "customdata": [
          [
           "The One Where Monica Gets a Roommate: The Pilot",
           1,
           1
          ],
          [
           "The One with the Evil Orthodontist",
           20,
           1
          ],
          [
           "The One with Barry and Mindy's Wedding",
           24,
           2
          ],
          [
           "The One with the Hypnosis Tape",
           18,
           3
          ],
          [
           "The One with All the Haste",
           19,
           4
          ],
          [
           "The One with All the Wedding Dresses",
           20,
           4
          ],
          [
           "The One with the Invitation",
           21,
           4
          ],
          [
           "The One After Ross Says Rachel",
           1,
           5
          ],
          [
           "The One with the Ring",
           23,
           6
          ],
          [
           "The One with the Proposal",
           24,
           6
          ],
          [
           "The One with the Proposal",
           25,
           6
          ],
          [
           "The One with Monica's Thunder",
           1,
           7
          ],
          [
           "The One with the Engagement Picture",
           5,
           7
          ],
          [
           "The One with the Cheap Wedding Dress",
           17,
           7
          ],
          [
           "The One with the Vows",
           21,
           7
          ],
          [
           "The One with Monica and Chandler's Wedding: Part 1",
           23,
           7
          ],
          [
           "The One with Monica and Chandler's Wedding: Part 2",
           24,
           7
          ],
          [
           "The One Where Rachel Tells...",
           3,
           8
          ],
          [
           "The One Where No One Proposes",
           1,
           9
          ],
          [
           "The One in Barbados",
           23,
           9
          ]
         ],
         "error_x": {
          "visible": false
         },
         "error_y": {
          "visible": false
         },
         "fill": "none",
         "hoverlabel": {
          "align": "left",
          "font": {
           "family": "Arial, sans-serif",
           "lineposition": "none",
           "shadow": "none",
           "size": 13,
           "style": "normal",
           "textcase": "normal",
           "variant": "normal",
           "weight": "normal"
          },
          "namelength": -1
         },
         "hoveron": "points",
         "hovertemplate": "color=1<br>x=%{x}<br>y=%{y}<br>Episode_Title=%{customdata[0]}<br>Episode Number=%{customdata[1]}<br>Season=%{customdata[2]}<extra></extra>",
         "hovertext": "",
         "legend": "legend",
         "legendgroup": "1",
         "legendgrouptitle": {
          "font": {
           "color": "#2a3f5f",
           "family": "\"Open Sans\", verdana, arial, sans-serif",
           "lineposition": "none",
           "shadow": "none",
           "size": 13,
           "style": "normal",
           "textcase": "normal",
           "variant": "normal",
           "weight": "normal"
          },
          "text": ""
         },
         "legendrank": 1000,
         "marker": {
          "angle": 0,
          "angleref": "up",
          "color": "#636EFA",
          "gradient": {
           "type": "none"
          },
          "line": {
           "color": "#444",
           "width": 0
          },
          "maxdisplayed": 0,
          "opacity": 1,
          "size": 6,
          "standoff": 0,
          "symbol": "circle"
         },
         "mode": "markers",
         "name": "1",
         "opacity": 1,
         "selected": {
          "marker": {
           "opacity": 1
          }
         },
         "showlegend": true,
         "stackgroup": "",
         "text": "",
         "type": "scatter",
         "uid": "de3664",
         "unselected": {
          "marker": {
           "opacity": 0.2
          }
         },
         "visible": true,
         "x": [
          2.9384450912475586,
          2.4131624698638916,
          2.9945197105407715,
          2.765604257583618,
          3.254485845565796,
          3.2682530879974365,
          3.5381431579589844,
          3.5677967071533203,
          2.5536344051361084,
          2.7748067378997803,
          2.92301344871521,
          2.380858898162842,
          2.2428412437438965,
          3.1917409896850586,
          2.6792423725128174,
          2.787660598754883,
          3.2174792289733887,
          3.177422523498535,
          2.5769712924957275,
          2.539684772491455
         ],
         "xaxis": "x",
         "xcalendar": "gregorian",
         "xhoverformat": "",
         "xperiod": 0,
         "y": [
          11.515047073364258,
          11.432594299316406,
          11.634944915771484,
          11.759921073913574,
          11.496722221374512,
          11.318326950073242,
          11.387690544128418,
          11.31280517578125,
          11.258735656738281,
          11.393357276916504,
          11.400769233703613,
          11.57185173034668,
          11.466957092285156,
          11.386731147766113,
          11.82577896118164,
          11.83728313446045,
          11.041342735290527,
          11.126955032348633,
          11.350932121276855,
          11.27677059173584
         ],
         "yaxis": "y",
         "ycalendar": "gregorian",
         "yhoverformat": "",
         "yperiod": 0,
         "zorder": 0
        },
        {
         "cliponaxis": true,
         "customdata": [
          [
           "The One with the Sonogram at the End",
           2,
           1
          ],
          [
           "The One with the Blackout",
           7,
           1
          ],
          [
           "The One with the Dozen Lasagnas",
           12,
           1
          ],
          [
           "The One with Two Parts: Part 2",
           17,
           1
          ],
          [
           "The One with All the Poker",
           18,
           1
          ],
          [
           "The One Where the Monkey Gets Away",
           19,
           1
          ],
          [
           "The One with Phoebe's Husband",
           4,
           2
          ],
          [
           "The One with the Lesbian Wedding",
           11,
           2
          ],
          [
           "The One After the Superbowl: Part 1",
           12,
           2
          ],
          [
           "The One After the Superbowl: Part 2",
           13,
           2
          ],
          [
           "The One with the Bullies",
           21,
           2
          ],
          [
           "The One with the Princess Leia Fantasy",
           1,
           3
          ],
          [
           "The One with the Jam",
           3,
           3
          ],
          [
           "The One with the Metaphorical Tunnel",
           4,
           3
          ],
          [
           "The One Where Chandler Can't Remember Which Sister",
           11,
           3
          ],
          [
           "The One Where Ross and Rachel Take a Break",
           15,
           3
          ],
          [
           "The One Without the Ski Trip",
           17,
           3
          ],
          [
           "The One at the Beach",
           25,
           3
          ],
          [
           "The One with the Jellyfish",
           1,
           4
          ],
          [
           "The One with Phoebe's Uterus",
           11,
           4
          ],
          [
           "The One with Rachel's New Dress",
           18,
           4
          ],
          [
           "The One with Ross's Wedding",
           24,
           4
          ],
          [
           "The One Hundredth",
           3,
           5
          ],
          [
           "The One with All the Thanksgivings",
           8,
           5
          ],
          [
           "The One with the Inappropriate Sister",
           10,
           5
          ],
          [
           "The One with All the Resolutions",
           11,
           5
          ],
          [
           "The One with the Ride Along",
           20,
           5
          ],
          [
           "The One Where Joey Loses His Insurance",
           4,
           6
          ],
          [
           "The One with Rachel's Sister",
           13,
           6
          ],
          [
           "The One with Unagi",
           17,
           6
          ],
          [
           "The One Where Ross Meets Elizabeth's Dad",
           21,
           6
          ],
          [
           "The One with Phoebe's Cookies",
           3,
           7
          ],
          [
           "The One with All the Candy",
           9,
           7
          ],
          [
           "The One with All the Cheesecakes",
           11,
           7
          ],
          [
           "The One with Rachel's Big Kiss",
           20,
           7
          ],
          [
           "The One with the Red Sweater",
           2,
           8
          ],
          [
           "The One with the Halloween Party",
           6,
           8
          ],
          [
           "The One with the Stripper",
           8,
           8
          ],
          [
           "The One Where Joey Dates Rachel",
           12,
           8
          ],
          [
           "The One Where Chandler Takes a Bath",
           13,
           8
          ],
          [
           "The One in Massapequa",
           18,
           8
          ],
          [
           "The One with the Baby Shower",
           20,
           8
          ],
          [
           "The One with Rachel's Phone Number",
           9,
           9
          ],
          [
           "The One Where Rachel Goes Back to Work",
           11,
           9
          ],
          [
           "The One with Phoebe's Rats",
           12,
           9
          ],
          [
           "The One with the Mugging",
           15,
           9
          ],
          [
           "The One with the Memorial Service",
           17,
           9
          ],
          [
           "The One with the Fertility Test",
           21,
           9
          ],
          [
           "The One in Barbados",
           24,
           9
          ],
          [
           "The One with Ross's Tan",
           3,
           10
          ],
          [
           "The One with the Home Study",
           7,
           10
          ],
          [
           "The One Where the Stripper Cries",
           11,
           10
          ],
          [
           "The One with Phoebe's Wedding",
           12,
           10
          ],
          [
           "The One Where Joey Speaks French",
           13,
           10
          ],
          [
           "The One with Princess Consuela",
           14,
           10
          ],
          [
           "The Last One: Part 1",
           17,
           10
          ]
         ],
         "error_x": {
          "visible": false
         },
         "error_y": {
          "visible": false
         },
         "fill": "none",
         "hoverlabel": {
          "align": "left",
          "font": {
           "family": "Arial, sans-serif",
           "lineposition": "none",
           "shadow": "none",
           "size": 13,
           "style": "normal",
           "textcase": "normal",
           "variant": "normal",
           "weight": "normal"
          },
          "namelength": -1
         },
         "hoveron": "points",
         "hovertemplate": "color=0<br>x=%{x}<br>y=%{y}<br>Episode_Title=%{customdata[0]}<br>Episode Number=%{customdata[1]}<br>Season=%{customdata[2]}<extra></extra>",
         "hovertext": "",
         "legend": "legend",
         "legendgroup": "0",
         "legendgrouptitle": {
          "font": {
           "color": "#2a3f5f",
           "family": "\"Open Sans\", verdana, arial, sans-serif",
           "lineposition": "none",
           "shadow": "none",
           "size": 13,
           "style": "normal",
           "textcase": "normal",
           "variant": "normal",
           "weight": "normal"
          },
          "text": ""
         },
         "legendrank": 1000,
         "marker": {
          "angle": 0,
          "angleref": "up",
          "color": "#EF553B",
          "gradient": {
           "type": "none"
          },
          "line": {
           "color": "#444",
           "width": 0
          },
          "maxdisplayed": 0,
          "opacity": 1,
          "size": 6,
          "standoff": 0,
          "symbol": "circle"
         },
         "mode": "markers",
         "name": "0",
         "opacity": 1,
         "selected": {
          "marker": {
           "opacity": 1
          }
         },
         "showlegend": true,
         "stackgroup": "",
         "text": "",
         "type": "scatter",
         "uid": "e375f1",
         "unselected": {
          "marker": {
           "opacity": 0.2
          }
         },
         "visible": true,
         "x": [
          2.0191023349761963,
          5.020378589630127,
          1.9213459491729736,
          2.878962755203247,
          4.8654913902282715,
          5.943930149078369,
          3.873314619064331,
          3.636126756668091,
          4.570054054260254,
          4.470937252044678,
          3.5507917404174805,
          3.167956829071045,
          2.3798367977142334,
          3.2906761169433594,
          5.3047776222229,
          4.716755390167236,
          4.461209774017334,
          5.148125648498535,
          4.790747165679932,
          2.2903425693511963,
          3.83316707611084,
          3.558548927307129,
          1.7968313694000244,
          6.309700965881348,
          5.188226699829102,
          5.7458062171936035,
          5.598106861114502,
          4.039261817932129,
          5.437075614929199,
          5.1450958251953125,
          3.6837518215179443,
          5.475658416748047,
          4.889886379241943,
          6.251287460327148,
          5.172887802124023,
          2.080632209777832,
          3.73272967338562,
          4.043904781341553,
          5.997613906860352,
          2.4394571781158447,
          3.446403980255127,
          2.0232315063476562,
          4.721631050109863,
          2.221285820007324,
          5.914336681365967,
          3.612119436264038,
          4.378380298614502,
          2.2228591442108154,
          4.674489498138428,
          4.888599872589111,
          3.0195364952087402,
          3.673914909362793,
          3.5876197814941406,
          3.7369678020477295,
          2.9087140560150146,
          1.90561044216156
         ],
         "xaxis": "x",
         "xcalendar": "gregorian",
         "xhoverformat": "",
         "xperiod": 0,
         "y": [
          10.515893936157227,
          10.445469856262207,
          9.534796714782715,
          10.666748046875,
          10.545817375183105,
          10.37325382232666,
          11.225773811340332,
          11.81449031829834,
          10.803218841552734,
          11.051260948181152,
          7.881799697875977,
          9.60595417022705,
          10.657292366027832,
          8.838229179382324,
          10.18233871459961,
          11.300281524658203,
          11.330448150634766,
          7.696217060089111,
          7.67254114151001,
          9.75774097442627,
          11.155439376831055,
          11.026185989379883,
          9.56849193572998,
          10.281131744384766,
          10.106566429138184,
          10.032516479492188,
          10.293130874633789,
          7.180866718292236,
          10.082287788391113,
          8.104427337646484,
          7.956270694732666,
          7.982499599456787,
          7.985539436340332,
          9.23299503326416,
          9.868208885192871,
          10.195515632629395,
          11.81399917602539,
          11.364346504211426,
          8.962372779846191,
          9.892264366149902,
          11.950261116027832,
          9.53860855102539,
          10.445666313171387,
          9.323389053344727,
          8.900718688964844,
          7.902361869812012,
          7.302672386169434,
          10.555484771728516,
          7.339412689208984,
          8.09538745880127,
          10.86040210723877,
          10.709471702575684,
          11.865737915039062,
          7.119601726531982,
          10.802450180053711,
          10.427099227905273
         ],
         "yaxis": "y",
         "ycalendar": "gregorian",
         "yhoverformat": "",
         "yperiod": 0,
         "zorder": 0
        },
        {
         "cliponaxis": true,
         "customdata": [
          [
           "The One with the Thumb",
           3,
           1
          ],
          [
           "The One with the Prom Video",
           14,
           2
          ],
          [
           "The One on the Last Night",
           6,
           6
          ],
          [
           "The One with the Birthing Video",
           15,
           8
          ],
          [
           "The One with the Sharks",
           4,
           9
          ],
          [
           "The One Where Monica Sings",
           13,
           9
          ],
          [
           "The One with the Lottery",
           18,
           9
          ]
         ],
         "error_x": {
          "visible": false
         },
         "error_y": {
          "visible": false
         },
         "fill": "none",
         "hoverlabel": {
          "align": "left",
          "font": {
           "family": "Arial, sans-serif",
           "lineposition": "none",
           "shadow": "none",
           "size": 13,
           "style": "normal",
           "textcase": "normal",
           "variant": "normal",
           "weight": "normal"
          },
          "namelength": -1
         },
         "hoveron": "points",
         "hovertemplate": "color=17<br>x=%{x}<br>y=%{y}<br>Episode_Title=%{customdata[0]}<br>Episode Number=%{customdata[1]}<br>Season=%{customdata[2]}<extra></extra>",
         "hovertext": "",
         "legend": "legend",
         "legendgroup": "17",
         "legendgrouptitle": {
          "font": {
           "color": "#2a3f5f",
           "family": "\"Open Sans\", verdana, arial, sans-serif",
           "lineposition": "none",
           "shadow": "none",
           "size": 13,
           "style": "normal",
           "textcase": "normal",
           "variant": "normal",
           "weight": "normal"
          },
          "text": ""
         },
         "legendrank": 1000,
         "marker": {
          "angle": 0,
          "angleref": "up",
          "color": "#00CC96",
          "gradient": {
           "type": "none"
          },
          "line": {
           "color": "#444",
           "width": 0
          },
          "maxdisplayed": 0,
          "opacity": 1,
          "size": 6,
          "standoff": 0,
          "symbol": "circle"
         },
         "mode": "markers",
         "name": "17",
         "opacity": 1,
         "selected": {
          "marker": {
           "opacity": 1
          }
         },
         "showlegend": true,
         "stackgroup": "",
         "text": "",
         "type": "scatter",
         "uid": "f32bc3",
         "unselected": {
          "marker": {
           "opacity": 0.2
          }
         },
         "visible": true,
         "x": [
          3.087061882019043,
          2.7667078971862793,
          3.191936492919922,
          2.6580891609191895,
          3.001603841781616,
          2.922834873199463,
          3.0516068935394287
         ],
         "xaxis": "x",
         "xcalendar": "gregorian",
         "xhoverformat": "",
         "xperiod": 0,
         "y": [
          9.652327537536621,
          10.226369857788086,
          10.025856971740723,
          10.095235824584961,
          10.127838134765625,
          10.065921783447266,
          9.916339874267578
         ],
         "yaxis": "y",
         "ycalendar": "gregorian",
         "yhoverformat": "",
         "yperiod": 0,
         "zorder": 0
        },
        {
         "cliponaxis": true,
         "customdata": [
          [
           "The One with George Stephanopoulos",
           4,
           1
          ],
          [
           "The One with the Monkey",
           10,
           1
          ],
          [
           "The One with the Candy Hearts",
           14,
           1
          ],
          [
           "The One with Russ",
           10,
           2
          ],
          [
           "The One Where Ross and Rachel... You Know",
           15,
           2
          ],
          [
           "The One Where Monica and Richard Are Just Friends",
           13,
           3
          ],
          [
           "The One with the Tiny T-Shirt",
           19,
           3
          ],
          [
           "The One with the Screamer",
           22,
           3
          ],
          [
           "The One with Ross' Teeth",
           8,
           6
          ],
          [
           "The One Where Ross Dates a Student",
           18,
           6
          ],
          [
           "The One with Joey's Fridge",
           19,
           6
          ],
          [
           "The One Where Paul's the Man",
           22,
           6
          ],
          [
           "The One with Rachel's Date",
           5,
           8
          ],
          [
           "The One with Ross's Step Forward",
           11,
           8
          ],
          [
           "The One with the Blind Dates",
           14,
           9
          ],
          [
           "The One with the Soap Opera Party",
           20,
           9
          ],
          [
           "The One with the Birth Mother",
           9,
           10
          ]
         ],
         "error_x": {
          "visible": false
         },
         "error_y": {
          "visible": false
         },
         "fill": "none",
         "hoverlabel": {
          "align": "left",
          "font": {
           "family": "Arial, sans-serif",
           "lineposition": "none",
           "shadow": "none",
           "size": 13,
           "style": "normal",
           "textcase": "normal",
           "variant": "normal",
           "weight": "normal"
          },
          "namelength": -1
         },
         "hoveron": "points",
         "hovertemplate": "color=4<br>x=%{x}<br>y=%{y}<br>Episode_Title=%{customdata[0]}<br>Episode Number=%{customdata[1]}<br>Season=%{customdata[2]}<extra></extra>",
         "hovertext": "",
         "legend": "legend",
         "legendgroup": "4",
         "legendgrouptitle": {
          "font": {
           "color": "#2a3f5f",
           "family": "\"Open Sans\", verdana, arial, sans-serif",
           "lineposition": "none",
           "shadow": "none",
           "size": 13,
           "style": "normal",
           "textcase": "normal",
           "variant": "normal",
           "weight": "normal"
          },
          "text": ""
         },
         "legendrank": 1000,
         "marker": {
          "angle": 0,
          "angleref": "up",
          "color": "#AB63FA",
          "gradient": {
           "type": "none"
          },
          "line": {
           "color": "#444",
           "width": 0
          },
          "maxdisplayed": 0,
          "opacity": 1,
          "size": 6,
          "standoff": 0,
          "symbol": "circle"
         },
         "mode": "markers",
         "name": "4",
         "opacity": 1,
         "selected": {
          "marker": {
           "opacity": 1
          }
         },
         "showlegend": true,
         "stackgroup": "",
         "text": "",
         "type": "scatter",
         "uid": "3a7c6b",
         "unselected": {
          "marker": {
           "opacity": 0.2
          }
         },
         "visible": true,
         "x": [
          5.281918048858643,
          5.8644938468933105,
          5.515161514282227,
          5.607450008392334,
          5.64616060256958,
          5.3049774169921875,
          5.6694865226745605,
          5.13185453414917,
          5.591808319091797,
          5.373938083648682,
          5.154159069061279,
          5.279714107513428,
          5.671317100524902,
          5.380141735076904,
          5.8546833992004395,
          5.521255016326904,
          6.033781051635742
         ],
         "xaxis": "x",
         "xcalendar": "gregorian",
         "xhoverformat": "",
         "xperiod": 0,
         "y": [
          8.977418899536133,
          9.618786811828613,
          9.040623664855957,
          9.379488945007324,
          9.415748596191406,
          9.147847175598145,
          9.549619674682617,
          9.372733116149902,
          9.117757797241211,
          9.458518981933594,
          8.664361953735352,
          9.520198822021484,
          9.159934043884277,
          8.85815715789795,
          9.234766960144043,
          8.72172737121582,
          9.356827735900879
         ],
         "yaxis": "y",
         "ycalendar": "gregorian",
         "yhoverformat": "",
         "yperiod": 0,
         "zorder": 0
        },
        {
         "cliponaxis": true,
         "customdata": [
          [
           "The One with the East German Laundry Detergent",
           5,
           1
          ],
          [
           "The One with the Butt",
           6,
           1
          ],
          [
           "The One with the Stoned Guy",
           15,
           1
          ],
          [
           "The One Where Rachel Finds Out",
           24,
           1
          ],
          [
           "The One with Phoebe's Dad",
           9,
           2
          ],
          [
           "The One Where Eddie Moves In",
           17,
           2
          ],
          [
           "The One Where Eddie Won't Go",
           19,
           2
          ],
          [
           "The One with All the Jealousy",
           12,
           3
          ],
          [
           "The One with Phoebe's Ex-Partner",
           14,
           3
          ],
          [
           "The One with the Chick and the Duck",
           21,
           3
          ],
          [
           "The One with Ross's Thing",
           23,
           3
          ],
          [
           "The One with the Ultimate Fighting Champion",
           24,
           3
          ],
          [
           "The One with the Cat",
           2,
           4
          ],
          [
           "The One with Joey's New Girlfriend",
           5,
           4
          ],
          [
           "The One with the Dirty Girl",
           6,
           4
          ],
          [
           "The One Where Chandler Crosses the Line",
           7,
           4
          ],
          [
           "The One Where They're Going to Party!",
           9,
           4
          ],
          [
           "The One with the Girl from Poughkeepsie",
           10,
           4
          ],
          [
           "The One with Rachel's Crush",
           13,
           4
          ],
          [
           "The One Where Ross Moves In",
           7,
           5
          ],
          [
           "The One with the Girl Who Hits Joey",
           15,
           5
          ],
          [
           "The One with the Cop",
           16,
           5
          ],
          [
           "The One with the Ball",
           21,
           5
          ],
          [
           "The One Where Phoebe Runs",
           7,
           6
          ],
          [
           "The One with Ross and Monica's Cousin",
           19,
           7
          ],
          [
           "The One with the Stain",
           7,
           8
          ],
          [
           "The One Where Joey Tells Rachel",
           16,
           8
          ],
          [
           "The One with Ross' Grant",
           6,
           10
          ]
         ],
         "error_x": {
          "visible": false
         },
         "error_y": {
          "visible": false
         },
         "fill": "none",
         "hoverlabel": {
          "align": "left",
          "font": {
           "family": "Arial, sans-serif",
           "lineposition": "none",
           "shadow": "none",
           "size": 13,
           "style": "normal",
           "textcase": "normal",
           "variant": "normal",
           "weight": "normal"
          },
          "namelength": -1
         },
         "hoveron": "points",
         "hovertemplate": "color=2<br>x=%{x}<br>y=%{y}<br>Episode_Title=%{customdata[0]}<br>Episode Number=%{customdata[1]}<br>Season=%{customdata[2]}<extra></extra>",
         "hovertext": "",
         "legend": "legend",
         "legendgroup": "2",
         "legendgrouptitle": {
          "font": {
           "color": "#2a3f5f",
           "family": "\"Open Sans\", verdana, arial, sans-serif",
           "lineposition": "none",
           "shadow": "none",
           "size": 13,
           "style": "normal",
           "textcase": "normal",
           "variant": "normal",
           "weight": "normal"
          },
          "text": ""
         },
         "legendrank": 1000,
         "marker": {
          "angle": 0,
          "angleref": "up",
          "color": "#FFA15A",
          "gradient": {
           "type": "none"
          },
          "line": {
           "color": "#444",
           "width": 0
          },
          "maxdisplayed": 0,
          "opacity": 1,
          "size": 6,
          "standoff": 0,
          "symbol": "circle"
         },
         "mode": "markers",
         "name": "2",
         "opacity": 1,
         "selected": {
          "marker": {
           "opacity": 1
          }
         },
         "showlegend": true,
         "stackgroup": "",
         "text": "",
         "type": "scatter",
         "uid": "0a5755",
         "unselected": {
          "marker": {
           "opacity": 0.2
          }
         },
         "visible": true,
         "x": [
          4.67142391204834,
          4.566250324249268,
          4.236960411071777,
          4.294856548309326,
          4.35587215423584,
          4.311326026916504,
          4.223636627197266,
          4.229808807373047,
          4.276859760284424,
          4.4229631423950195,
          4.156973361968994,
          4.384843826293945,
          4.254617214202881,
          4.629312038421631,
          4.124213695526123,
          4.3091254234313965,
          3.7298638820648193,
          3.954275131225586,
          4.288294792175293,
          4.6815032958984375,
          4.498276233673096,
          3.8132450580596924,
          4.50202751159668,
          4.805596828460693,
          4.851359844207764,
          3.8972606658935547,
          4.310794830322266,
          4.315814018249512
         ],
         "xaxis": "x",
         "xcalendar": "gregorian",
         "xhoverformat": "",
         "xperiod": 0,
         "y": [
          8.5642671585083,
          8.791390419006348,
          8.695097923278809,
          10.132710456848145,
          10.107665061950684,
          8.791041374206543,
          8.529692649841309,
          9.51462459564209,
          8.62692928314209,
          9.05443000793457,
          9.59770393371582,
          9.407346725463867,
          8.447388648986816,
          9.337841987609863,
          8.891840934753418,
          9.869148254394531,
          8.500099182128906,
          8.429261207580566,
          9.577823638916016,
          9.22342586517334,
          9.1821928024292,
          8.25554084777832,
          8.858684539794922,
          8.766027450561523,
          9.137792587280273,
          8.639917373657227,
          9.571979522705078,
          9.752264976501465
         ],
         "yaxis": "y",
         "ycalendar": "gregorian",
         "yhoverformat": "",
         "yperiod": 0,
         "zorder": 0
        },
        {
         "cliponaxis": true,
         "customdata": [
          [
           "The One Where Nana Dies Twice",
           8,
           1
          ],
          [
           "The One Where Heckles Dies",
           3,
           2
          ],
          [
           "The One Where Dr. Ramoray Dies",
           18,
           2
          ],
          [
           "The One Where Old Yeller Dies",
           20,
           2
          ],
          [
           "The One with the Dollhouse",
           20,
           3
          ],
          [
           "The One with Joey's Bag",
           13,
           5
          ],
          [
           "The One Where Rosita Dies",
           13,
           7
          ],
          [
           "The One Where Estelle Dies",
           15,
           10
          ]
         ],
         "error_x": {
          "visible": false
         },
         "error_y": {
          "visible": false
         },
         "fill": "none",
         "hoverlabel": {
          "align": "left",
          "font": {
           "family": "Arial, sans-serif",
           "lineposition": "none",
           "shadow": "none",
           "size": 13,
           "style": "normal",
           "textcase": "normal",
           "variant": "normal",
           "weight": "normal"
          },
          "namelength": -1
         },
         "hoveron": "points",
         "hovertemplate": "color=11<br>x=%{x}<br>y=%{y}<br>Episode_Title=%{customdata[0]}<br>Episode Number=%{customdata[1]}<br>Season=%{customdata[2]}<extra></extra>",
         "hovertext": "",
         "legend": "legend",
         "legendgroup": "11",
         "legendgrouptitle": {
          "font": {
           "color": "#2a3f5f",
           "family": "\"Open Sans\", verdana, arial, sans-serif",
           "lineposition": "none",
           "shadow": "none",
           "size": 13,
           "style": "normal",
           "textcase": "normal",
           "variant": "normal",
           "weight": "normal"
          },
          "text": ""
         },
         "legendrank": 1000,
         "marker": {
          "angle": 0,
          "angleref": "up",
          "color": "#19D3F3",
          "gradient": {
           "type": "none"
          },
          "line": {
           "color": "#444",
           "width": 0
          },
          "maxdisplayed": 0,
          "opacity": 1,
          "size": 6,
          "standoff": 0,
          "symbol": "circle"
         },
         "mode": "markers",
         "name": "11",
         "opacity": 1,
         "selected": {
          "marker": {
           "opacity": 1
          }
         },
         "showlegend": true,
         "stackgroup": "",
         "text": "",
         "type": "scatter",
         "uid": "3e3e6c",
         "unselected": {
          "marker": {
           "opacity": 0.2
          }
         },
         "visible": true,
         "x": [
          3.162912130355835,
          2.879452705383301,
          2.9469871520996094,
          2.8067843914031982,
          3.2325992584228516,
          3.0532894134521484,
          3.154475688934326,
          3.2397806644439697
         ],
         "xaxis": "x",
         "xcalendar": "gregorian",
         "xhoverformat": "",
         "xperiod": 0,
         "y": [
          7.419096946716309,
          7.162965774536133,
          7.033267021179199,
          7.20469331741333,
          7.262676239013672,
          7.255791187286377,
          7.011677265167236,
          6.94843864440918
         ],
         "yaxis": "y",
         "ycalendar": "gregorian",
         "yhoverformat": "",
         "yperiod": 0,
         "zorder": 0
        },
        {
         "cliponaxis": true,
         "customdata": [
          [
           "The One Where Underdog Gets Away",
           9,
           1
          ],
          [
           "The One with the Football",
           9,
           3
          ],
          [
           "The One with the Rumor",
           9,
           8
          ],
          [
           "The One with Rachel's Other Sister",
           8,
           9
          ],
          [
           "The One with the Late Thanksgiving",
           8,
           10
          ]
         ],
         "error_x": {
          "visible": false
         },
         "error_y": {
          "visible": false
         },
         "fill": "none",
         "hoverlabel": {
          "align": "left",
          "font": {
           "family": "Arial, sans-serif",
           "lineposition": "none",
           "shadow": "none",
           "size": 13,
           "style": "normal",
           "textcase": "normal",
           "variant": "normal",
           "weight": "normal"
          },
          "namelength": -1
         },
         "hoveron": "points",
         "hovertemplate": "color=14<br>x=%{x}<br>y=%{y}<br>Episode_Title=%{customdata[0]}<br>Episode Number=%{customdata[1]}<br>Season=%{customdata[2]}<extra></extra>",
         "hovertext": "",
         "legend": "legend",
         "legendgroup": "14",
         "legendgrouptitle": {
          "font": {
           "color": "#2a3f5f",
           "family": "\"Open Sans\", verdana, arial, sans-serif",
           "lineposition": "none",
           "shadow": "none",
           "size": 13,
           "style": "normal",
           "textcase": "normal",
           "variant": "normal",
           "weight": "normal"
          },
          "text": ""
         },
         "legendrank": 1000,
         "marker": {
          "angle": 0,
          "angleref": "up",
          "color": "#FF6692",
          "gradient": {
           "type": "none"
          },
          "line": {
           "color": "#444",
           "width": 0
          },
          "maxdisplayed": 0,
          "opacity": 1,
          "size": 6,
          "standoff": 0,
          "symbol": "circle"
         },
         "mode": "markers",
         "name": "14",
         "opacity": 1,
         "selected": {
          "marker": {
           "opacity": 1
          }
         },
         "showlegend": true,
         "stackgroup": "",
         "text": "",
         "type": "scatter",
         "uid": "49e0b7",
         "unselected": {
          "marker": {
           "opacity": 0.2
          }
         },
         "visible": true,
         "x": [
          6.236351013183594,
          6.400125026702881,
          6.454256057739258,
          6.268658638000488,
          6.375003814697266
         ],
         "xaxis": "x",
         "xcalendar": "gregorian",
         "xhoverformat": "",
         "xperiod": 0,
         "y": [
          10.150835037231445,
          9.95783519744873,
          9.711877822875977,
          10.177165985107422,
          9.713027000427246
         ],
         "yaxis": "y",
         "ycalendar": "gregorian",
         "yhoverformat": "",
         "yperiod": 0,
         "zorder": 0
        },
        {
         "cliponaxis": true,
         "customdata": [
          [
           "The One with Mrs. Bing",
           11,
           1
          ],
          [
           "The One with the Boobies",
           13,
           1
          ],
          [
           "The One with the Giant Poking Device",
           8,
           3
          ],
          [
           "The One with Chandler in a Box",
           8,
           4
          ],
          [
           "The One with Monica's Boots",
           10,
           8
          ],
          [
           "The One with Ross's Inappropriate Song",
           7,
           9
          ],
          [
           "The One with the Boob Job",
           16,
           9
          ],
          [
           "The One Where Chandler Gets Caught",
           10,
           10
          ]
         ],
         "error_x": {
          "visible": false
         },
         "error_y": {
          "visible": false
         },
         "fill": "none",
         "hoverlabel": {
          "align": "left",
          "font": {
           "family": "Arial, sans-serif",
           "lineposition": "none",
           "shadow": "none",
           "size": 13,
           "style": "normal",
           "textcase": "normal",
           "variant": "normal",
           "weight": "normal"
          },
          "namelength": -1
         },
         "hoveron": "points",
         "hovertemplate": "color=3<br>x=%{x}<br>y=%{y}<br>Episode_Title=%{customdata[0]}<br>Episode Number=%{customdata[1]}<br>Season=%{customdata[2]}<extra></extra>",
         "hovertext": "",
         "legend": "legend",
         "legendgroup": "3",
         "legendgrouptitle": {
          "font": {
           "color": "#2a3f5f",
           "family": "\"Open Sans\", verdana, arial, sans-serif",
           "lineposition": "none",
           "shadow": "none",
           "size": 13,
           "style": "normal",
           "textcase": "normal",
           "variant": "normal",
           "weight": "normal"
          },
          "text": ""
         },
         "legendrank": 1000,
         "marker": {
          "angle": 0,
          "angleref": "up",
          "color": "#B6E880",
          "gradient": {
           "type": "none"
          },
          "line": {
           "color": "#444",
           "width": 0
          },
          "maxdisplayed": 0,
          "opacity": 1,
          "size": 6,
          "standoff": 0,
          "symbol": "circle"
         },
         "mode": "markers",
         "name": "3",
         "opacity": 1,
         "selected": {
          "marker": {
           "opacity": 1
          }
         },
         "showlegend": true,
         "stackgroup": "",
         "text": "",
         "type": "scatter",
         "uid": "657d8f",
         "unselected": {
          "marker": {
           "opacity": 0.2
          }
         },
         "visible": true,
         "x": [
          2.95501446723938,
          2.8435823917388916,
          2.938784122467041,
          2.6078855991363525,
          2.7085535526275635,
          2.741558790206909,
          3.051021099090576,
          2.5635058879852295
         ],
         "xaxis": "x",
         "xcalendar": "gregorian",
         "xhoverformat": "",
         "xperiod": 0,
         "y": [
          9.226217269897461,
          9.378401756286621,
          9.062732696533203,
          8.968207359313965,
          9.123997688293457,
          9.599841117858887,
          9.533963203430176,
          9.173701286315918
         ],
         "yaxis": "y",
         "ycalendar": "gregorian",
         "yhoverformat": "",
         "yperiod": 0,
         "zorder": 0
        },
        {
         "cliponaxis": true,
         "customdata": [
          [
           "The One with Two Parts: Part 1",
           16,
           1
          ],
          [
           "The One with Ross's New Girlfriend",
           1,
           2
          ],
          [
           "The One with Frank Jr.",
           5,
           3
          ],
          [
           "The One with Rachel's Inadvertent Kiss",
           17,
           5
          ],
          [
           "The One After Joey and Rachel Kiss",
           1,
           10
          ],
          [
           "The One Where Rachel's Sister Babysits",
           5,
           10
          ]
         ],
         "error_x": {
          "visible": false
         },
         "error_y": {
          "visible": false
         },
         "fill": "none",
         "hoverlabel": {
          "align": "left",
          "font": {
           "family": "Arial, sans-serif",
           "lineposition": "none",
           "shadow": "none",
           "size": 13,
           "style": "normal",
           "textcase": "normal",
           "variant": "normal",
           "weight": "normal"
          },
          "namelength": -1
         },
         "hoveron": "points",
         "hovertemplate": "color=7<br>x=%{x}<br>y=%{y}<br>Episode_Title=%{customdata[0]}<br>Episode Number=%{customdata[1]}<br>Season=%{customdata[2]}<extra></extra>",
         "hovertext": "",
         "legend": "legend",
         "legendgroup": "7",
         "legendgrouptitle": {
          "font": {
           "color": "#2a3f5f",
           "family": "\"Open Sans\", verdana, arial, sans-serif",
           "lineposition": "none",
           "shadow": "none",
           "size": 13,
           "style": "normal",
           "textcase": "normal",
           "variant": "normal",
           "weight": "normal"
          },
          "text": ""
         },
         "legendrank": 1000,
         "marker": {
          "angle": 0,
          "angleref": "up",
          "color": "#FF97FF",
          "gradient": {
           "type": "none"
          },
          "line": {
           "color": "#444",
           "width": 0
          },
          "maxdisplayed": 0,
          "opacity": 1,
          "size": 6,
          "standoff": 0,
          "symbol": "circle"
         },
         "mode": "markers",
         "name": "7",
         "opacity": 1,
         "selected": {
          "marker": {
           "opacity": 1
          }
         },
         "showlegend": true,
         "stackgroup": "",
         "text": "",
         "type": "scatter",
         "uid": "cecb85",
         "unselected": {
          "marker": {
           "opacity": 0.2
          }
         },
         "visible": true,
         "x": [
          4.626706123352051,
          4.850715637207031,
          4.718367576599121,
          5.085147380828857,
          4.838836193084717,
          4.781968116760254
         ],
         "xaxis": "x",
         "xcalendar": "gregorian",
         "xhoverformat": "",
         "xperiod": 0,
         "y": [
          10.11085033416748,
          9.701995849609375,
          9.763510704040527,
          9.797330856323242,
          9.9990873336792,
          9.815982818603516
         ],
         "yaxis": "y",
         "ycalendar": "gregorian",
         "yhoverformat": "",
         "yperiod": 0,
         "zorder": 0
        },
        {
         "cliponaxis": true,
         "customdata": [
          [
           "The One with the Fake Monica",
           21,
           1
          ],
          [
           "The One with the Ick Factor",
           22,
           1
          ],
          [
           "The One Where Joey Moves Out",
           16,
           2
          ],
          [
           "The One with the 'Cuffs",
           3,
           4
          ],
          [
           "The One with the Worst Best Man Ever",
           22,
           4
          ],
          [
           "The One Where Ross Hugs Rachel",
           2,
           6
          ],
          [
           "The One with Ross's Denial",
           3,
           6
          ],
          [
           "The One with the Nap Partners",
           6,
           7
          ],
          [
           "The One with the Secret Closet",
           14,
           8
          ],
          [
           "The One with the Tea Leaves",
           17,
           8
          ],
          [
           "The One with the Male Nanny",
           6,
           9
          ],
          [
           "The One Where Ross Is Fine",
           2,
           10
          ]
         ],
         "error_x": {
          "visible": false
         },
         "error_y": {
          "visible": false
         },
         "fill": "none",
         "hoverlabel": {
          "align": "left",
          "font": {
           "family": "Arial, sans-serif",
           "lineposition": "none",
           "shadow": "none",
           "size": 13,
           "style": "normal",
           "textcase": "normal",
           "variant": "normal",
           "weight": "normal"
          },
          "namelength": -1
         },
         "hoveron": "points",
         "hovertemplate": "color=5<br>x=%{x}<br>y=%{y}<br>Episode_Title=%{customdata[0]}<br>Episode Number=%{customdata[1]}<br>Season=%{customdata[2]}<extra></extra>",
         "hovertext": "",
         "legend": "legend",
         "legendgroup": "5",
         "legendgrouptitle": {
          "font": {
           "color": "#2a3f5f",
           "family": "\"Open Sans\", verdana, arial, sans-serif",
           "lineposition": "none",
           "shadow": "none",
           "size": 13,
           "style": "normal",
           "textcase": "normal",
           "variant": "normal",
           "weight": "normal"
          },
          "text": ""
         },
         "legendrank": 1000,
         "marker": {
          "angle": 0,
          "angleref": "up",
          "color": "#FECB52",
          "gradient": {
           "type": "none"
          },
          "line": {
           "color": "#444",
           "width": 0
          },
          "maxdisplayed": 0,
          "opacity": 1,
          "size": 6,
          "standoff": 0,
          "symbol": "circle"
         },
         "mode": "markers",
         "name": "5",
         "opacity": 1,
         "selected": {
          "marker": {
           "opacity": 1
          }
         },
         "showlegend": true,
         "stackgroup": "",
         "text": "",
         "type": "scatter",
         "uid": "e83353",
         "unselected": {
          "marker": {
           "opacity": 0.2
          }
         },
         "visible": true,
         "x": [
          3.7434043884277344,
          3.8776445388793945,
          3.608729839324951,
          3.487285852432251,
          3.7413456439971924,
          3.533381938934326,
          4.022449970245361,
          3.8481862545013428,
          3.6377546787261963,
          3.482611656188965,
          3.6815168857574463,
          3.771307945251465
         ],
         "xaxis": "x",
         "xcalendar": "gregorian",
         "xhoverformat": "",
         "xperiod": 0,
         "y": [
          9.691131591796875,
          9.942167282104492,
          9.48417854309082,
          8.804998397827148,
          9.23627758026123,
          9.89139461517334,
          9.192055702209473,
          9.206327438354492,
          8.925416946411133,
          9.396088600158691,
          9.0044527053833,
          9.59354019165039
         ],
         "yaxis": "y",
         "ycalendar": "gregorian",
         "yhoverformat": "",
         "yperiod": 0,
         "zorder": 0
        },
        {
         "cliponaxis": true,
         "customdata": [
          [
           "The One with the Birth",
           23,
           1
          ],
          [
           "The One with the Embryos",
           12,
           4
          ],
          [
           "The One After I Do",
           1,
           8
          ],
          [
           "The One Where Rachel Is Late",
           22,
           8
          ],
          [
           "The One Where Rachel Has a Baby: Part 1",
           23,
           8
          ],
          [
           "The One Where Rachel Has a Baby: Part 2",
           24,
           8
          ]
         ],
         "error_x": {
          "visible": false
         },
         "error_y": {
          "visible": false
         },
         "fill": "none",
         "hoverlabel": {
          "align": "left",
          "font": {
           "family": "Arial, sans-serif",
           "lineposition": "none",
           "shadow": "none",
           "size": 13,
           "style": "normal",
           "textcase": "normal",
           "variant": "normal",
           "weight": "normal"
          },
          "namelength": -1
         },
         "hoveron": "points",
         "hovertemplate": "color=6<br>x=%{x}<br>y=%{y}<br>Episode_Title=%{customdata[0]}<br>Episode Number=%{customdata[1]}<br>Season=%{customdata[2]}<extra></extra>",
         "hovertext": "",
         "legend": "legend",
         "legendgroup": "6",
         "legendgrouptitle": {
          "font": {
           "color": "#2a3f5f",
           "family": "\"Open Sans\", verdana, arial, sans-serif",
           "lineposition": "none",
           "shadow": "none",
           "size": 13,
           "style": "normal",
           "textcase": "normal",
           "variant": "normal",
           "weight": "normal"
          },
          "text": ""
         },
         "legendrank": 1000,
         "marker": {
          "angle": 0,
          "angleref": "up",
          "color": "rgb(228,26,28)",
          "gradient": {
           "type": "none"
          },
          "line": {
           "color": "#444",
           "width": 0
          },
          "maxdisplayed": 0,
          "opacity": 1,
          "size": 6,
          "standoff": 0,
          "symbol": "circle"
         },
         "mode": "markers",
         "name": "6",
         "opacity": 1,
         "selected": {
          "marker": {
           "opacity": 1
          }
         },
         "showlegend": true,
         "stackgroup": "",
         "text": "",
         "type": "scatter",
         "uid": "03db84",
         "unselected": {
          "marker": {
           "opacity": 0.2
          }
         },
         "visible": true,
         "x": [
          1.647342562675476,
          2.019200563430786,
          1.8214170932769775,
          1.7211620807647705,
          1.6148709058761597,
          1.6636265516281128
         ],
         "xaxis": "x",
         "xcalendar": "gregorian",
         "xhoverformat": "",
         "xperiod": 0,
         "y": [
          9.980169296264648,
          9.921154975891113,
          9.970112800598145,
          9.830697059631348,
          10.223514556884766,
          10.172797203063965
         ],
         "yaxis": "y",
         "ycalendar": "gregorian",
         "yhoverformat": "",
         "yperiod": 0,
         "zorder": 0
        },
        {
         "cliponaxis": true,
         "customdata": [
          [
           "The One with the Breast Milk",
           2,
           2
          ],
          [
           "The One with Five Steaks and an Eggplant",
           5,
           2
          ],
          [
           "The One with the List",
           8,
           2
          ],
          [
           "The One Where Rachel Quits",
           10,
           3
          ],
          [
           "The One with Ross's Sandwich",
           9,
           5
          ],
          [
           "The One Where Rachel Smokes",
           18,
           5
          ],
          [
           "The One with the Apothecary Table",
           11,
           6
          ],
          [
           "The One with the Joke",
           12,
           6
          ],
          [
           "The One with the Cooking Class",
           21,
           8
          ],
          [
           "The One with the Donor",
           22,
           9
          ]
         ],
         "error_x": {
          "visible": false
         },
         "error_y": {
          "visible": false
         },
         "fill": "none",
         "hoverlabel": {
          "align": "left",
          "font": {
           "family": "Arial, sans-serif",
           "lineposition": "none",
           "shadow": "none",
           "size": 13,
           "style": "normal",
           "textcase": "normal",
           "variant": "normal",
           "weight": "normal"
          },
          "namelength": -1
         },
         "hoveron": "points",
         "hovertemplate": "color=8<br>x=%{x}<br>y=%{y}<br>Episode_Title=%{customdata[0]}<br>Episode Number=%{customdata[1]}<br>Season=%{customdata[2]}<extra></extra>",
         "hovertext": "",
         "legend": "legend",
         "legendgroup": "8",
         "legendgrouptitle": {
          "font": {
           "color": "#2a3f5f",
           "family": "\"Open Sans\", verdana, arial, sans-serif",
           "lineposition": "none",
           "shadow": "none",
           "size": 13,
           "style": "normal",
           "textcase": "normal",
           "variant": "normal",
           "weight": "normal"
          },
          "text": ""
         },
         "legendrank": 1000,
         "marker": {
          "angle": 0,
          "angleref": "up",
          "color": "rgb(55,126,184)",
          "gradient": {
           "type": "none"
          },
          "line": {
           "color": "#444",
           "width": 0
          },
          "maxdisplayed": 0,
          "opacity": 1,
          "size": 6,
          "standoff": 0,
          "symbol": "circle"
         },
         "mode": "markers",
         "name": "8",
         "opacity": 1,
         "selected": {
          "marker": {
           "opacity": 1
          }
         },
         "showlegend": true,
         "stackgroup": "",
         "text": "",
         "type": "scatter",
         "uid": "2dc6c1",
         "unselected": {
          "marker": {
           "opacity": 0.2
          }
         },
         "visible": true,
         "x": [
          4.4923906326293945,
          4.195181846618652,
          4.579681873321533,
          3.9311156272888184,
          4.316742897033691,
          4.121667385101318,
          3.888247489929199,
          4.058189868927002,
          4.348575592041016,
          4.775213718414307
         ],
         "xaxis": "x",
         "xcalendar": "gregorian",
         "xhoverformat": "",
         "xperiod": 0,
         "y": [
          8.065906524658203,
          7.874571323394775,
          7.992708206176758,
          7.631230354309082,
          8.10855770111084,
          7.748122692108154,
          7.568090915679932,
          7.837714672088623,
          8.11353588104248,
          8.202247619628906
         ],
         "yaxis": "y",
         "ycalendar": "gregorian",
         "yhoverformat": "",
         "yperiod": 0,
         "zorder": 0
        },
        {
         "cliponaxis": true,
         "customdata": [
          [
           "The One with the Baby on the Bus",
           6,
           2
          ],
          [
           "The One with the Chicken Pox",
           23,
           2
          ],
          [
           "The One with Mac and C.H.E.E.S.E.",
           20,
           6
          ],
          [
           "The One Where Emma Cries",
           2,
           9
          ],
          [
           "The One with the Pediatrician",
           3,
           9
          ],
          [
           "The One with Christmas in Tulsa",
           10,
           9
          ]
         ],
         "error_x": {
          "visible": false
         },
         "error_y": {
          "visible": false
         },
         "fill": "none",
         "hoverlabel": {
          "align": "left",
          "font": {
           "family": "Arial, sans-serif",
           "lineposition": "none",
           "shadow": "none",
           "size": 13,
           "style": "normal",
           "textcase": "normal",
           "variant": "normal",
           "weight": "normal"
          },
          "namelength": -1
         },
         "hoveron": "points",
         "hovertemplate": "color=9<br>x=%{x}<br>y=%{y}<br>Episode_Title=%{customdata[0]}<br>Episode Number=%{customdata[1]}<br>Season=%{customdata[2]}<extra></extra>",
         "hovertext": "",
         "legend": "legend",
         "legendgroup": "9",
         "legendgrouptitle": {
          "font": {
           "color": "#2a3f5f",
           "family": "\"Open Sans\", verdana, arial, sans-serif",
           "lineposition": "none",
           "shadow": "none",
           "size": 13,
           "style": "normal",
           "textcase": "normal",
           "variant": "normal",
           "weight": "normal"
          },
          "text": ""
         },
         "legendrank": 1000,
         "marker": {
          "angle": 0,
          "angleref": "up",
          "color": "rgb(77,175,74)",
          "gradient": {
           "type": "none"
          },
          "line": {
           "color": "#444",
           "width": 0
          },
          "maxdisplayed": 0,
          "opacity": 1,
          "size": 6,
          "standoff": 0,
          "symbol": "circle"
         },
         "mode": "markers",
         "name": "9",
         "opacity": 1,
         "selected": {
          "marker": {
           "opacity": 1
          }
         },
         "showlegend": true,
         "stackgroup": "",
         "text": "",
         "type": "scatter",
         "uid": "8f48b1",
         "unselected": {
          "marker": {
           "opacity": 0.2
          }
         },
         "visible": true,
         "x": [
          2.405959129333496,
          2.1930270195007324,
          2.464492082595825,
          2.197007894515991,
          2.265944480895996,
          2.203364133834839
         ],
         "xaxis": "x",
         "xcalendar": "gregorian",
         "xhoverformat": "",
         "xperiod": 0,
         "y": [
          9.017324447631836,
          8.907973289489746,
          8.525675773620605,
          8.665024757385254,
          8.744059562683105,
          8.799922943115234
         ],
         "yaxis": "y",
         "ycalendar": "gregorian",
         "yhoverformat": "",
         "yperiod": 0,
         "zorder": 0
        },
        {
         "cliponaxis": true,
         "customdata": [
          [
           "The One Where Ross Finds Out",
           7,
           2
          ],
          [
           "The One with the Morning After",
           16,
           3
          ],
          [
           "The One with All the Rugby",
           15,
           4
          ],
          [
           "The One with the Free Porn",
           17,
           4
          ],
          [
           "The One with All the Kissing",
           2,
           5
          ],
          [
           "The One Where Phoebe Hates PBS",
           4,
           5
          ],
          [
           "The One with the Kips",
           5,
           5
          ],
          [
           "The One with Chandler's Work Laugh",
           12,
           5
          ],
          [
           "The One Where Everybody Finds Out",
           14,
           5
          ],
          [
           "The One Where Chandler Can't Cry",
           14,
           6
          ],
          [
           "The One with Rachel's Book",
           2,
           7
          ],
          [
           "The One with Ross's Library Book",
           7,
           7
          ],
          [
           "The One with the Truth About London",
           16,
           7
          ],
          [
           "The One with the Videotape",
           4,
           8
          ],
          [
           "The Last One: Part 2",
           18,
           10
          ]
         ],
         "error_x": {
          "visible": false
         },
         "error_y": {
          "visible": false
         },
         "fill": "none",
         "hoverlabel": {
          "align": "left",
          "font": {
           "family": "Arial, sans-serif",
           "lineposition": "none",
           "shadow": "none",
           "size": 13,
           "style": "normal",
           "textcase": "normal",
           "variant": "normal",
           "weight": "normal"
          },
          "namelength": -1
         },
         "hoveron": "points",
         "hovertemplate": "color=10<br>x=%{x}<br>y=%{y}<br>Episode_Title=%{customdata[0]}<br>Episode Number=%{customdata[1]}<br>Season=%{customdata[2]}<extra></extra>",
         "hovertext": "",
         "legend": "legend",
         "legendgroup": "10",
         "legendgrouptitle": {
          "font": {
           "color": "#2a3f5f",
           "family": "\"Open Sans\", verdana, arial, sans-serif",
           "lineposition": "none",
           "shadow": "none",
           "size": 13,
           "style": "normal",
           "textcase": "normal",
           "variant": "normal",
           "weight": "normal"
          },
          "text": ""
         },
         "legendrank": 1000,
         "marker": {
          "angle": 0,
          "angleref": "up",
          "color": "rgb(152,78,163)",
          "gradient": {
           "type": "none"
          },
          "line": {
           "color": "#444",
           "width": 0
          },
          "maxdisplayed": 0,
          "opacity": 1,
          "size": 6,
          "standoff": 0,
          "symbol": "circle"
         },
         "mode": "markers",
         "name": "10",
         "opacity": 1,
         "selected": {
          "marker": {
           "opacity": 1
          }
         },
         "showlegend": true,
         "stackgroup": "",
         "text": "",
         "type": "scatter",
         "uid": "74872f",
         "unselected": {
          "marker": {
           "opacity": 0.2
          }
         },
         "visible": true,
         "x": [
          4.147149085998535,
          4.206338405609131,
          3.8032538890838623,
          3.475982904434204,
          4.088103294372559,
          3.8218133449554443,
          3.997466802597046,
          3.66509747505188,
          3.9607765674591064,
          3.4750235080718994,
          3.3117141723632812,
          3.444884777069092,
          3.9770617485046387,
          4.12056303024292,
          3.1295583248138428
         ],
         "xaxis": "x",
         "xcalendar": "gregorian",
         "xhoverformat": "",
         "xperiod": 0,
         "y": [
          10.383993148803711,
          10.758001327514648,
          10.203985214233398,
          10.167770385742188,
          10.536601066589355,
          10.259618759155273,
          10.789013862609863,
          10.066802024841309,
          10.408443450927734,
          10.334590911865234,
          10.369524002075195,
          10.482985496520996,
          10.581364631652832,
          10.560604095458984,
          10.579700469970703
         ],
         "yaxis": "y",
         "ycalendar": "gregorian",
         "yhoverformat": "",
         "yperiod": 0,
         "zorder": 0
        },
        {
         "cliponaxis": true,
         "customdata": [
          [
           "The One with the Two Parties",
           22,
           2
          ],
          [
           "The One with the Flashback",
           6,
           3
          ],
          [
           "The One with the Fake Party",
           16,
           4
          ],
          [
           "The One That Could Have Been",
           15,
           6
          ],
          [
           "The One That Could Have Been",
           16,
           6
          ],
          [
           "The One Where They're Up All Night",
           12,
           7
          ],
          [
           "The One Where They All Turn Thirty",
           14,
           7
          ],
          [
           "The One with Phoebe's Birthday Dinner",
           5,
           9
          ],
          [
           "The One with the Cake",
           4,
           10
          ],
          [
           "The One with Rachel's Going Away Party",
           16,
           10
          ]
         ],
         "error_x": {
          "visible": false
         },
         "error_y": {
          "visible": false
         },
         "fill": "none",
         "hoverlabel": {
          "align": "left",
          "font": {
           "family": "Arial, sans-serif",
           "lineposition": "none",
           "shadow": "none",
           "size": 13,
           "style": "normal",
           "textcase": "normal",
           "variant": "normal",
           "weight": "normal"
          },
          "namelength": -1
         },
         "hoveron": "points",
         "hovertemplate": "color=12<br>x=%{x}<br>y=%{y}<br>Episode_Title=%{customdata[0]}<br>Episode Number=%{customdata[1]}<br>Season=%{customdata[2]}<extra></extra>",
         "hovertext": "",
         "legend": "legend",
         "legendgroup": "12",
         "legendgrouptitle": {
          "font": {
           "color": "#2a3f5f",
           "family": "\"Open Sans\", verdana, arial, sans-serif",
           "lineposition": "none",
           "shadow": "none",
           "size": 13,
           "style": "normal",
           "textcase": "normal",
           "variant": "normal",
           "weight": "normal"
          },
          "text": ""
         },
         "legendrank": 1000,
         "marker": {
          "angle": 0,
          "angleref": "up",
          "color": "rgb(255,127,0)",
          "gradient": {
           "type": "none"
          },
          "line": {
           "color": "#444",
           "width": 0
          },
          "maxdisplayed": 0,
          "opacity": 1,
          "size": 6,
          "standoff": 0,
          "symbol": "circle"
         },
         "mode": "markers",
         "name": "12",
         "opacity": 1,
         "selected": {
          "marker": {
           "opacity": 1
          }
         },
         "showlegend": true,
         "stackgroup": "",
         "text": "",
         "type": "scatter",
         "uid": "c68889",
         "unselected": {
          "marker": {
           "opacity": 0.2
          }
         },
         "visible": true,
         "x": [
          5.12782621383667,
          5.506384372711182,
          4.905585289001465,
          5.339390754699707,
          5.492696762084961,
          5.239394187927246,
          5.2976484298706055,
          5.784458160400391,
          5.401554584503174,
          5.112780570983887
         ],
         "xaxis": "x",
         "xcalendar": "gregorian",
         "xhoverformat": "",
         "xperiod": 0,
         "y": [
          11.556129455566406,
          11.017775535583496,
          11.695967674255371,
          11.345280647277832,
          11.205097198486328,
          10.956412315368652,
          11.52883529663086,
          10.907439231872559,
          11.278818130493164,
          11.665858268737793
         ],
         "yaxis": "y",
         "ycalendar": "gregorian",
         "yhoverformat": "",
         "yperiod": 0,
         "zorder": 0
        },
        {
         "cliponaxis": true,
         "customdata": [
          [
           "The One Where No One's Ready",
           2,
           3
          ],
          [
           "The One with the Ballroom Dancing",
           4,
           4
          ],
          [
           "The One with the Yeti",
           6,
           5
          ],
          [
           "The One Where Ross Can't Flirt",
           19,
           5
          ],
          [
           "The One Where Ross Got High",
           9,
           6
          ],
          [
           "The One with the Routine",
           10,
           6
          ],
          [
           "The One Where Chandler Doesn't Like Dogs",
           8,
           7
          ],
          [
           "The One with the Holiday Armadillo",
           10,
           7
          ]
         ],
         "error_x": {
          "visible": false
         },
         "error_y": {
          "visible": false
         },
         "fill": "none",
         "hoverlabel": {
          "align": "left",
          "font": {
           "family": "Arial, sans-serif",
           "lineposition": "none",
           "shadow": "none",
           "size": 13,
           "style": "normal",
           "textcase": "normal",
           "variant": "normal",
           "weight": "normal"
          },
          "namelength": -1
         },
         "hoveron": "points",
         "hovertemplate": "color=15<br>x=%{x}<br>y=%{y}<br>Episode_Title=%{customdata[0]}<br>Episode Number=%{customdata[1]}<br>Season=%{customdata[2]}<extra></extra>",
         "hovertext": "",
         "legend": "legend",
         "legendgroup": "15",
         "legendgrouptitle": {
          "font": {
           "color": "#2a3f5f",
           "family": "\"Open Sans\", verdana, arial, sans-serif",
           "lineposition": "none",
           "shadow": "none",
           "size": 13,
           "style": "normal",
           "textcase": "normal",
           "variant": "normal",
           "weight": "normal"
          },
          "text": ""
         },
         "legendrank": 1000,
         "marker": {
          "angle": 0,
          "angleref": "up",
          "color": "rgb(255,255,51)",
          "gradient": {
           "type": "none"
          },
          "line": {
           "color": "#444",
           "width": 0
          },
          "maxdisplayed": 0,
          "opacity": 1,
          "size": 6,
          "standoff": 0,
          "symbol": "circle"
         },
         "mode": "markers",
         "name": "15",
         "opacity": 1,
         "selected": {
          "marker": {
           "opacity": 1
          }
         },
         "showlegend": true,
         "stackgroup": "",
         "text": "",
         "type": "scatter",
         "uid": "2811d4",
         "unselected": {
          "marker": {
           "opacity": 0.2
          }
         },
         "visible": true,
         "x": [
          5.126214504241943,
          5.026954650878906,
          5.503965854644775,
          5.51654577255249,
          5.661311626434326,
          5.228359699249268,
          5.756592750549316,
          5.436763763427734
         ],
         "xaxis": "x",
         "xcalendar": "gregorian",
         "xhoverformat": "",
         "xperiod": 0,
         "y": [
          8.530523300170898,
          8.382818222045898,
          8.497812271118164,
          8.158193588256836,
          8.377519607543945,
          8.412378311157227,
          8.603110313415527,
          8.361978530883789
         ],
         "yaxis": "y",
         "ycalendar": "gregorian",
         "yhoverformat": "",
         "yperiod": 0,
         "zorder": 0
        },
        {
         "cliponaxis": true,
         "customdata": [
          [
           "The One with the Race Car Bed",
           7,
           3
          ],
          [
           "The One with Joey's Dirty Day",
           14,
           4
          ],
          [
           "The One with Joey's Big Break",
           22,
           5
          ],
          [
           "The One with Joey's Porsche",
           5,
           6
          ],
          [
           "The One with Rachel's Assistant",
           4,
           7
          ],
          [
           "The One with Joey's New Brain",
           15,
           7
          ],
          [
           "The One with Joey's Award",
           18,
           7
          ],
          [
           "The One with Joey's Interview",
           19,
           8
          ],
          [
           "The One with Rachel's Dream",
           19,
           9
          ]
         ],
         "error_x": {
          "visible": false
         },
         "error_y": {
          "visible": false
         },
         "fill": "none",
         "hoverlabel": {
          "align": "left",
          "font": {
           "family": "Arial, sans-serif",
           "lineposition": "none",
           "shadow": "none",
           "size": 13,
           "style": "normal",
           "textcase": "normal",
           "variant": "normal",
           "weight": "normal"
          },
          "namelength": -1
         },
         "hoveron": "points",
         "hovertemplate": "color=13<br>x=%{x}<br>y=%{y}<br>Episode_Title=%{customdata[0]}<br>Episode Number=%{customdata[1]}<br>Season=%{customdata[2]}<extra></extra>",
         "hovertext": "",
         "legend": "legend",
         "legendgroup": "13",
         "legendgrouptitle": {
          "font": {
           "color": "#2a3f5f",
           "family": "\"Open Sans\", verdana, arial, sans-serif",
           "lineposition": "none",
           "shadow": "none",
           "size": 13,
           "style": "normal",
           "textcase": "normal",
           "variant": "normal",
           "weight": "normal"
          },
          "text": ""
         },
         "legendrank": 1000,
         "marker": {
          "angle": 0,
          "angleref": "up",
          "color": "rgb(166,86,40)",
          "gradient": {
           "type": "none"
          },
          "line": {
           "color": "#444",
           "width": 0
          },
          "maxdisplayed": 0,
          "opacity": 1,
          "size": 6,
          "standoff": 0,
          "symbol": "circle"
         },
         "mode": "markers",
         "name": "13",
         "opacity": 1,
         "selected": {
          "marker": {
           "opacity": 1
          }
         },
         "showlegend": true,
         "stackgroup": "",
         "text": "",
         "type": "scatter",
         "uid": "ff687f",
         "unselected": {
          "marker": {
           "opacity": 0.2
          }
         },
         "visible": true,
         "x": [
          2.904123544692993,
          3.376192808151245,
          3.0577237606048584,
          2.6893234252929688,
          3.1114206314086914,
          3.1585865020751953,
          2.9306979179382324,
          2.9336020946502686,
          3.154635429382324
         ],
         "xaxis": "x",
         "xcalendar": "gregorian",
         "xhoverformat": "",
         "xperiod": 0,
         "y": [
          8.486071586608887,
          8.298007011413574,
          8.26107406616211,
          8.676640510559082,
          8.6652250289917,
          8.482953071594238,
          8.392285346984863,
          8.413496971130371,
          8.112198829650879
         ],
         "yaxis": "y",
         "ycalendar": "gregorian",
         "yhoverformat": "",
         "yperiod": 0,
         "zorder": 0
        },
        {
         "cliponaxis": true,
         "customdata": [
          [
           "The One with Ross's Wedding",
           23,
           4
          ],
          [
           "The One in Vegas: Part 1",
           23,
           5
          ],
          [
           "The One in Vegas: Part 2",
           24,
           5
          ],
          [
           "The One After Vegas",
           1,
           6
          ],
          [
           "The One with Chandler's Dad",
           22,
           7
          ]
         ],
         "error_x": {
          "visible": false
         },
         "error_y": {
          "visible": false
         },
         "fill": "none",
         "hoverlabel": {
          "align": "left",
          "font": {
           "family": "Arial, sans-serif",
           "lineposition": "none",
           "shadow": "none",
           "size": 13,
           "style": "normal",
           "textcase": "normal",
           "variant": "normal",
           "weight": "normal"
          },
          "namelength": -1
         },
         "hoveron": "points",
         "hovertemplate": "color=16<br>x=%{x}<br>y=%{y}<br>Episode_Title=%{customdata[0]}<br>Episode Number=%{customdata[1]}<br>Season=%{customdata[2]}<extra></extra>",
         "hovertext": "",
         "legend": "legend",
         "legendgroup": "16",
         "legendgrouptitle": {
          "font": {
           "color": "#2a3f5f",
           "family": "\"Open Sans\", verdana, arial, sans-serif",
           "lineposition": "none",
           "shadow": "none",
           "size": 13,
           "style": "normal",
           "textcase": "normal",
           "variant": "normal",
           "weight": "normal"
          },
          "text": ""
         },
         "legendrank": 1000,
         "marker": {
          "angle": 0,
          "angleref": "up",
          "color": "rgb(247,129,191)",
          "gradient": {
           "type": "none"
          },
          "line": {
           "color": "#444",
           "width": 0
          },
          "maxdisplayed": 0,
          "opacity": 1,
          "size": 6,
          "standoff": 0,
          "symbol": "circle"
         },
         "mode": "markers",
         "name": "16",
         "opacity": 1,
         "selected": {
          "marker": {
           "opacity": 1
          }
         },
         "showlegend": true,
         "stackgroup": "",
         "text": "",
         "type": "scatter",
         "uid": "2d1970",
         "unselected": {
          "marker": {
           "opacity": 0.2
          }
         },
         "visible": true,
         "x": [
          3.922994613647461,
          4.2052717208862305,
          4.063884735107422,
          4.356212615966797,
          4.308816909790039
         ],
         "xaxis": "x",
         "xcalendar": "gregorian",
         "xhoverformat": "",
         "xperiod": 0,
         "y": [
          11.515308380126953,
          11.849234580993652,
          11.74177074432373,
          11.694950103759766,
          11.759012222290039
         ],
         "yaxis": "y",
         "ycalendar": "gregorian",
         "yhoverformat": "",
         "yperiod": 0,
         "zorder": 0
        }
       ],
       "layout": {
        "activeselection": {
         "fillcolor": "rgba(0,0,0,0)",
         "opacity": 0.5
        },
        "activeshape": {
         "fillcolor": "rgb(255,0,255)",
         "opacity": 0.5
        },
        "autosize": false,
        "autotypenumbers": "strict",
        "calendar": "gregorian",
        "clickmode": "event",
        "colorscale": {
         "diverging": [
          [
           0,
           "#8e0152"
          ],
          [
           0.1,
           "#c51b7d"
          ],
          [
           0.2,
           "#de77ae"
          ],
          [
           0.3,
           "#f1b6da"
          ],
          [
           0.4,
           "#fde0ef"
          ],
          [
           0.5,
           "#f7f7f7"
          ],
          [
           0.6,
           "#e6f5d0"
          ],
          [
           0.7,
           "#b8e186"
          ],
          [
           0.8,
           "#7fbc41"
          ],
          [
           0.9,
           "#4d9221"
          ],
          [
           1,
           "#276419"
          ]
         ],
         "sequential": [
          [
           0,
           "#0d0887"
          ],
          [
           0.1111111111111111,
           "#46039f"
          ],
          [
           0.2222222222222222,
           "#7201a8"
          ],
          [
           0.3333333333333333,
           "#9c179e"
          ],
          [
           0.4444444444444444,
           "#bd3786"
          ],
          [
           0.5555555555555556,
           "#d8576b"
          ],
          [
           0.6666666666666666,
           "#ed7953"
          ],
          [
           0.7777777777777778,
           "#fb9f3a"
          ],
          [
           0.8888888888888888,
           "#fdca26"
          ],
          [
           1,
           "#f0f921"
          ]
         ],
         "sequentialminus": [
          [
           0,
           "#0d0887"
          ],
          [
           0.1111111111111111,
           "#46039f"
          ],
          [
           0.2222222222222222,
           "#7201a8"
          ],
          [
           0.3333333333333333,
           "#9c179e"
          ],
          [
           0.4444444444444444,
           "#bd3786"
          ],
          [
           0.5555555555555556,
           "#d8576b"
          ],
          [
           0.6666666666666666,
           "#ed7953"
          ],
          [
           0.7777777777777778,
           "#fb9f3a"
          ],
          [
           0.8888888888888888,
           "#fdca26"
          ],
          [
           1,
           "#f0f921"
          ]
         ]
        },
        "colorway": [
         "#636efa",
         "#EF553B",
         "#00cc96",
         "#ab63fa",
         "#FFA15A",
         "#19d3f3",
         "#FF6692",
         "#B6E880",
         "#FF97FF",
         "#FECB52"
        ],
        "computed": {
         "margin": {
          "b": 80,
          "l": 80,
          "r": 82,
          "t": 60
         }
        },
        "dragmode": "zoom",
        "font": {
         "color": "#2a3f5f",
         "family": "\"Open Sans\", verdana, arial, sans-serif",
         "lineposition": "none",
         "shadow": "none",
         "size": 12,
         "style": "normal",
         "textcase": "normal",
         "variant": "normal",
         "weight": "normal"
        },
        "height": 600,
        "hidesources": false,
        "hoverdistance": 20,
        "hoverlabel": {
         "align": "left",
         "font": {
          "family": "Arial, sans-serif",
          "lineposition": "none",
          "shadow": "none",
          "size": 13,
          "style": "normal",
          "textcase": "normal",
          "variant": "normal",
          "weight": "normal"
         },
         "grouptitlefont": {
          "family": "Arial, sans-serif",
          "lineposition": "none",
          "shadow": "none",
          "size": 13,
          "style": "normal",
          "textcase": "normal",
          "variant": "normal",
          "weight": "normal"
         },
         "namelength": 15
        },
        "hovermode": "closest",
        "hoversubplots": "overlaying",
        "legend": {
         "bgcolor": "white",
         "bordercolor": "#444",
         "borderwidth": 0,
         "entrywidthmode": "pixels",
         "font": {
          "color": "#2a3f5f",
          "family": "\"Open Sans\", verdana, arial, sans-serif",
          "lineposition": "none",
          "shadow": "none",
          "size": 12,
          "style": "normal",
          "textcase": "normal",
          "variant": "normal",
          "weight": "normal"
         },
         "groupclick": "togglegroup",
         "grouptitlefont": {
          "color": "#2a3f5f",
          "family": "\"Open Sans\", verdana, arial, sans-serif",
          "lineposition": "none",
          "shadow": "none",
          "size": 13,
          "style": "normal",
          "textcase": "normal",
          "variant": "normal",
          "weight": "normal"
         },
         "indentation": 0,
         "itemclick": "toggle",
         "itemdoubleclick": "toggleothers",
         "itemsizing": "trace",
         "itemwidth": 30,
         "orientation": "v",
         "title": {
          "font": {
           "color": "#2a3f5f",
           "family": "\"Open Sans\", verdana, arial, sans-serif",
           "lineposition": "none",
           "shadow": "none",
           "size": 14,
           "style": "normal",
           "textcase": "normal",
           "variant": "normal",
           "weight": "normal"
          },
          "side": "top",
          "text": "color"
         },
         "tracegroupgap": 0,
         "traceorder": "grouped",
         "valign": "middle",
         "visible": true,
         "x": 1.02,
         "xanchor": "left",
         "xref": "paper",
         "y": 1,
         "yanchor": "auto",
         "yref": "paper"
        },
        "margin": {
         "autoexpand": true,
         "b": 80,
         "l": 80,
         "pad": 0,
         "r": 80,
         "t": 60
        },
        "minreducedheight": 64,
        "minreducedwidth": 64,
        "modebar": {
         "activecolor": "rgba(68, 68, 68, 0.7)",
         "add": "",
         "bgcolor": "rgba(255, 255, 255, 0.5)",
         "color": "rgba(68, 68, 68, 0.3)",
         "orientation": "h",
         "remove": ""
        },
        "newselection": {
         "line": {
          "dash": "dot",
          "width": 1
         },
         "mode": "immediate"
        },
        "newshape": {
         "drawdirection": "diagonal",
         "fillcolor": "rgba(0,0,0,0)",
         "fillrule": "evenodd",
         "label": {
          "text": "",
          "texttemplate": ""
         },
         "layer": "above",
         "legend": "legend",
         "legendgroup": "",
         "legendgrouptitle": {
          "font": {
           "lineposition": "none",
           "shadow": "none",
           "style": "normal",
           "textcase": "normal",
           "variant": "normal",
           "weight": "normal"
          },
          "text": ""
         },
         "legendrank": 1000,
         "line": {
          "color": "#444",
          "dash": "solid",
          "width": 4
         },
         "opacity": 1,
         "showlegend": false,
         "visible": true
        },
        "paper_bgcolor": "white",
        "plot_bgcolor": "#E5ECF6",
        "scattermode": "overlay",
        "separators": ".,",
        "shapes": [
         {
          "line": {
           "color": "#636EFA",
           "width": 2
          },
          "opacity": 1,
          "type": "circle",
          "x0": 2.199002265930176,
          "x1": 3.5795745849609375,
          "xref": "x",
          "y0": 10.749489784240723,
          "y1": 12.130061149597168,
          "yref": "y"
         },
         {
          "line": {
           "color": "#B6E880",
           "width": 2
          },
          "opacity": 1,
          "type": "circle",
          "x0": 2.429302453994751,
          "x1": 3.173173666000366,
          "xref": "x",
          "y0": 8.886446952819824,
          "y1": 9.630318641662598,
          "yref": "y"
         },
         {
          "line": {
           "color": "#AB63FA",
           "width": 2
          },
          "opacity": 1,
          "type": "circle",
          "x0": 4.862970352172852,
          "x1": 6.1820068359375,
          "xref": "x",
          "y0": 8.551924705505371,
          "y1": 9.87096118927002,
          "yref": "y"
         },
         {
          "line": {
           "color": "#FECB52",
           "width": 2
          },
          "opacity": 1,
          "type": "circle",
          "x0": 3.0989937782287598,
          "x1": 4.306943416595459,
          "xref": "x",
          "y0": 8.760028839111328,
          "y1": 9.967977523803711,
          "yref": "y"
         },
         {
          "line": {
           "color": "rgb(228,26,28)",
           "width": 2
          },
          "opacity": 1,
          "type": "circle",
          "x0": 1.460434913635254,
          "x1": 2.035438299179077,
          "xref": "x",
          "y0": 9.728906631469727,
          "y1": 10.303909301757812,
          "yref": "y"
         },
         {
          "line": {
           "color": "#FF97FF",
           "width": 2
          },
          "opacity": 1,
          "type": "circle",
          "x0": 4.505927085876465,
          "x1": 5.127986907958984,
          "xref": "x",
          "y0": 9.553762435913086,
          "y1": 10.175823211669922,
          "yref": "y"
         },
         {
          "line": {
           "color": "rgb(55,126,184)",
           "width": 2
          },
          "opacity": 1,
          "type": "circle",
          "x0": 3.6897835731506348,
          "x1": 4.85161828994751,
          "xref": "x",
          "y0": 7.333351135253906,
          "y1": 8.495185852050781,
          "yref": "y"
         },
         {
          "line": {
           "color": "rgb(77,175,74)",
           "width": 2
          },
          "opacity": 1,
          "type": "circle",
          "x0": 1.9816417694091797,
          "x1": 2.594956874847412,
          "xref": "x",
          "y0": 8.470005989074707,
          "y1": 9.083321571350098,
          "yref": "y"
         },
         {
          "line": {
           "color": "rgb(152,78,163)",
           "width": 2
          },
          "opacity": 1,
          "type": "circle",
          "x0": 3.1129186153411865,
          "x1": 4.437053203582764,
          "xref": "x",
          "y0": 9.770133018493652,
          "y1": 11.094267845153809,
          "yref": "y"
         },
         {
          "line": {
           "color": "#19D3F3",
           "width": 2
          },
          "opacity": 1,
          "type": "circle",
          "x0": 2.7798280715942383,
          "x1": 3.339242458343506,
          "xref": "x",
          "y0": 6.882618427276611,
          "y1": 7.442033290863037,
          "yref": "y"
         },
         {
          "line": {
           "color": "rgb(255,127,0)",
           "width": 2
          },
          "opacity": 1,
          "type": "circle",
          "x0": 4.70292854309082,
          "x1": 5.938615798950195,
          "xref": "x",
          "y0": 10.697916984558105,
          "y1": 11.93360424041748,
          "yref": "y"
         },
         {
          "line": {
           "color": "rgb(166,86,40)",
           "width": 2
          },
          "opacity": 1,
          "type": "circle",
          "x0": 2.6050236225128174,
          "x1": 3.4652669429779053,
          "xref": "x",
          "y0": 7.990761756896973,
          "y1": 8.851004600524902,
          "yref": "y"
         },
         {
          "line": {
           "color": "#FF6692",
           "width": 2
          },
          "opacity": 1,
          "type": "circle",
          "x0": 6.092803478240967,
          "x1": 6.600954532623291,
          "xref": "x",
          "y0": 9.68807315826416,
          "y1": 10.196223258972168,
          "yref": "y"
         },
         {
          "line": {
           "color": "rgb(255,255,51)",
           "width": 2
          },
          "opacity": 1,
          "type": "circle",
          "x0": 5.010434150695801,
          "x1": 5.803743362426758,
          "xref": "x",
          "y0": 8.01888656616211,
          "y1": 8.812196731567383,
          "yref": "y"
         },
         {
          "line": {
           "color": "rgb(247,129,191)",
           "width": 2
          },
          "opacity": 1,
          "type": "circle",
          "x0": 3.854524612426758,
          "x1": 4.488347053527832,
          "xref": "x",
          "y0": 11.395145416259766,
          "y1": 12.028966903686523,
          "yref": "y"
         },
         {
          "line": {
           "color": "#00CC96",
           "width": 2
          },
          "opacity": 1,
          "type": "circle",
          "x0": 2.567385673522949,
          "x1": 3.3411402702331543,
          "xref": "x",
          "y0": 9.62882137298584,
          "y1": 10.402575492858887,
          "yref": "y"
         }
        ],
        "showlegend": false,
        "spikedistance": -1,
        "template": {
         "data": {
          "bar": [
           {
            "error_x": {
             "color": "#2a3f5f"
            },
            "error_y": {
             "color": "#2a3f5f"
            },
            "marker": {
             "line": {
              "color": "#E5ECF6",
              "width": 0.5
             },
             "pattern": {
              "fillmode": "overlay",
              "size": 10,
              "solidity": 0.2
             }
            },
            "type": "bar"
           }
          ],
          "barpolar": [
           {
            "marker": {
             "line": {
              "color": "#E5ECF6",
              "width": 0.5
             },
             "pattern": {
              "fillmode": "overlay",
              "size": 10,
              "solidity": 0.2
             }
            },
            "type": "barpolar"
           }
          ],
          "carpet": [
           {
            "aaxis": {
             "endlinecolor": "#2a3f5f",
             "gridcolor": "white",
             "linecolor": "white",
             "minorgridcolor": "white",
             "startlinecolor": "#2a3f5f"
            },
            "baxis": {
             "endlinecolor": "#2a3f5f",
             "gridcolor": "white",
             "linecolor": "white",
             "minorgridcolor": "white",
             "startlinecolor": "#2a3f5f"
            },
            "type": "carpet"
           }
          ],
          "choropleth": [
           {
            "colorbar": {
             "outlinewidth": 0,
             "ticks": ""
            },
            "type": "choropleth"
           }
          ],
          "contour": [
           {
            "colorbar": {
             "outlinewidth": 0,
             "ticks": ""
            },
            "colorscale": [
             [
              0,
              "#0d0887"
             ],
             [
              0.1111111111111111,
              "#46039f"
             ],
             [
              0.2222222222222222,
              "#7201a8"
             ],
             [
              0.3333333333333333,
              "#9c179e"
             ],
             [
              0.4444444444444444,
              "#bd3786"
             ],
             [
              0.5555555555555556,
              "#d8576b"
             ],
             [
              0.6666666666666666,
              "#ed7953"
             ],
             [
              0.7777777777777778,
              "#fb9f3a"
             ],
             [
              0.8888888888888888,
              "#fdca26"
             ],
             [
              1,
              "#f0f921"
             ]
            ],
            "type": "contour"
           }
          ],
          "contourcarpet": [
           {
            "colorbar": {
             "outlinewidth": 0,
             "ticks": ""
            },
            "type": "contourcarpet"
           }
          ],
          "heatmap": [
           {
            "colorbar": {
             "outlinewidth": 0,
             "ticks": ""
            },
            "colorscale": [
             [
              0,
              "#0d0887"
             ],
             [
              0.1111111111111111,
              "#46039f"
             ],
             [
              0.2222222222222222,
              "#7201a8"
             ],
             [
              0.3333333333333333,
              "#9c179e"
             ],
             [
              0.4444444444444444,
              "#bd3786"
             ],
             [
              0.5555555555555556,
              "#d8576b"
             ],
             [
              0.6666666666666666,
              "#ed7953"
             ],
             [
              0.7777777777777778,
              "#fb9f3a"
             ],
             [
              0.8888888888888888,
              "#fdca26"
             ],
             [
              1,
              "#f0f921"
             ]
            ],
            "type": "heatmap"
           }
          ],
          "heatmapgl": [
           {
            "colorbar": {
             "outlinewidth": 0,
             "ticks": ""
            },
            "colorscale": [
             [
              0,
              "#0d0887"
             ],
             [
              0.1111111111111111,
              "#46039f"
             ],
             [
              0.2222222222222222,
              "#7201a8"
             ],
             [
              0.3333333333333333,
              "#9c179e"
             ],
             [
              0.4444444444444444,
              "#bd3786"
             ],
             [
              0.5555555555555556,
              "#d8576b"
             ],
             [
              0.6666666666666666,
              "#ed7953"
             ],
             [
              0.7777777777777778,
              "#fb9f3a"
             ],
             [
              0.8888888888888888,
              "#fdca26"
             ],
             [
              1,
              "#f0f921"
             ]
            ],
            "type": "heatmapgl"
           }
          ],
          "histogram": [
           {
            "marker": {
             "pattern": {
              "fillmode": "overlay",
              "size": 10,
              "solidity": 0.2
             }
            },
            "type": "histogram"
           }
          ],
          "histogram2d": [
           {
            "colorbar": {
             "outlinewidth": 0,
             "ticks": ""
            },
            "colorscale": [
             [
              0,
              "#0d0887"
             ],
             [
              0.1111111111111111,
              "#46039f"
             ],
             [
              0.2222222222222222,
              "#7201a8"
             ],
             [
              0.3333333333333333,
              "#9c179e"
             ],
             [
              0.4444444444444444,
              "#bd3786"
             ],
             [
              0.5555555555555556,
              "#d8576b"
             ],
             [
              0.6666666666666666,
              "#ed7953"
             ],
             [
              0.7777777777777778,
              "#fb9f3a"
             ],
             [
              0.8888888888888888,
              "#fdca26"
             ],
             [
              1,
              "#f0f921"
             ]
            ],
            "type": "histogram2d"
           }
          ],
          "histogram2dcontour": [
           {
            "colorbar": {
             "outlinewidth": 0,
             "ticks": ""
            },
            "colorscale": [
             [
              0,
              "#0d0887"
             ],
             [
              0.1111111111111111,
              "#46039f"
             ],
             [
              0.2222222222222222,
              "#7201a8"
             ],
             [
              0.3333333333333333,
              "#9c179e"
             ],
             [
              0.4444444444444444,
              "#bd3786"
             ],
             [
              0.5555555555555556,
              "#d8576b"
             ],
             [
              0.6666666666666666,
              "#ed7953"
             ],
             [
              0.7777777777777778,
              "#fb9f3a"
             ],
             [
              0.8888888888888888,
              "#fdca26"
             ],
             [
              1,
              "#f0f921"
             ]
            ],
            "type": "histogram2dcontour"
           }
          ],
          "mesh3d": [
           {
            "colorbar": {
             "outlinewidth": 0,
             "ticks": ""
            },
            "type": "mesh3d"
           }
          ],
          "parcoords": [
           {
            "line": {
             "colorbar": {
              "outlinewidth": 0,
              "ticks": ""
             }
            },
            "type": "parcoords"
           }
          ],
          "pie": [
           {
            "automargin": true,
            "type": "pie"
           }
          ],
          "scatter": [
           {
            "fillpattern": {
             "fillmode": "overlay",
             "size": 10,
             "solidity": 0.2
            },
            "type": "scatter"
           }
          ],
          "scatter3d": [
           {
            "line": {
             "colorbar": {
              "outlinewidth": 0,
              "ticks": ""
             }
            },
            "marker": {
             "colorbar": {
              "outlinewidth": 0,
              "ticks": ""
             }
            },
            "type": "scatter3d"
           }
          ],
          "scattercarpet": [
           {
            "marker": {
             "colorbar": {
              "outlinewidth": 0,
              "ticks": ""
             }
            },
            "type": "scattercarpet"
           }
          ],
          "scattergeo": [
           {
            "marker": {
             "colorbar": {
              "outlinewidth": 0,
              "ticks": ""
             }
            },
            "type": "scattergeo"
           }
          ],
          "scattergl": [
           {
            "marker": {
             "colorbar": {
              "outlinewidth": 0,
              "ticks": ""
             }
            },
            "type": "scattergl"
           }
          ],
          "scattermapbox": [
           {
            "marker": {
             "colorbar": {
              "outlinewidth": 0,
              "ticks": ""
             }
            },
            "type": "scattermapbox"
           }
          ],
          "scatterpolar": [
           {
            "marker": {
             "colorbar": {
              "outlinewidth": 0,
              "ticks": ""
             }
            },
            "type": "scatterpolar"
           }
          ],
          "scatterpolargl": [
           {
            "marker": {
             "colorbar": {
              "outlinewidth": 0,
              "ticks": ""
             }
            },
            "type": "scatterpolargl"
           }
          ],
          "scatterternary": [
           {
            "marker": {
             "colorbar": {
              "outlinewidth": 0,
              "ticks": ""
             }
            },
            "type": "scatterternary"
           }
          ],
          "surface": [
           {
            "colorbar": {
             "outlinewidth": 0,
             "ticks": ""
            },
            "colorscale": [
             [
              0,
              "#0d0887"
             ],
             [
              0.1111111111111111,
              "#46039f"
             ],
             [
              0.2222222222222222,
              "#7201a8"
             ],
             [
              0.3333333333333333,
              "#9c179e"
             ],
             [
              0.4444444444444444,
              "#bd3786"
             ],
             [
              0.5555555555555556,
              "#d8576b"
             ],
             [
              0.6666666666666666,
              "#ed7953"
             ],
             [
              0.7777777777777778,
              "#fb9f3a"
             ],
             [
              0.8888888888888888,
              "#fdca26"
             ],
             [
              1,
              "#f0f921"
             ]
            ],
            "type": "surface"
           }
          ],
          "table": [
           {
            "cells": {
             "fill": {
              "color": "#EBF0F8"
             },
             "line": {
              "color": "white"
             }
            },
            "header": {
             "fill": {
              "color": "#C8D4E3"
             },
             "line": {
              "color": "white"
             }
            },
            "type": "table"
           }
          ]
         },
         "layout": {
          "annotationdefaults": {
           "arrowcolor": "#2a3f5f",
           "arrowhead": 0,
           "arrowwidth": 1
          },
          "autotypenumbers": "strict",
          "coloraxis": {
           "colorbar": {
            "outlinewidth": 0,
            "ticks": ""
           }
          },
          "colorscale": {
           "diverging": [
            [
             0,
             "#8e0152"
            ],
            [
             0.1,
             "#c51b7d"
            ],
            [
             0.2,
             "#de77ae"
            ],
            [
             0.3,
             "#f1b6da"
            ],
            [
             0.4,
             "#fde0ef"
            ],
            [
             0.5,
             "#f7f7f7"
            ],
            [
             0.6,
             "#e6f5d0"
            ],
            [
             0.7,
             "#b8e186"
            ],
            [
             0.8,
             "#7fbc41"
            ],
            [
             0.9,
             "#4d9221"
            ],
            [
             1,
             "#276419"
            ]
           ],
           "sequential": [
            [
             0,
             "#0d0887"
            ],
            [
             0.1111111111111111,
             "#46039f"
            ],
            [
             0.2222222222222222,
             "#7201a8"
            ],
            [
             0.3333333333333333,
             "#9c179e"
            ],
            [
             0.4444444444444444,
             "#bd3786"
            ],
            [
             0.5555555555555556,
             "#d8576b"
            ],
            [
             0.6666666666666666,
             "#ed7953"
            ],
            [
             0.7777777777777778,
             "#fb9f3a"
            ],
            [
             0.8888888888888888,
             "#fdca26"
            ],
            [
             1,
             "#f0f921"
            ]
           ],
           "sequentialminus": [
            [
             0,
             "#0d0887"
            ],
            [
             0.1111111111111111,
             "#46039f"
            ],
            [
             0.2222222222222222,
             "#7201a8"
            ],
            [
             0.3333333333333333,
             "#9c179e"
            ],
            [
             0.4444444444444444,
             "#bd3786"
            ],
            [
             0.5555555555555556,
             "#d8576b"
            ],
            [
             0.6666666666666666,
             "#ed7953"
            ],
            [
             0.7777777777777778,
             "#fb9f3a"
            ],
            [
             0.8888888888888888,
             "#fdca26"
            ],
            [
             1,
             "#f0f921"
            ]
           ]
          },
          "colorway": [
           "#636efa",
           "#EF553B",
           "#00cc96",
           "#ab63fa",
           "#FFA15A",
           "#19d3f3",
           "#FF6692",
           "#B6E880",
           "#FF97FF",
           "#FECB52"
          ],
          "font": {
           "color": "#2a3f5f"
          },
          "geo": {
           "bgcolor": "white",
           "lakecolor": "white",
           "landcolor": "#E5ECF6",
           "showlakes": true,
           "showland": true,
           "subunitcolor": "white"
          },
          "hoverlabel": {
           "align": "left"
          },
          "hovermode": "closest",
          "mapbox": {
           "style": "light"
          },
          "paper_bgcolor": "white",
          "plot_bgcolor": "#E5ECF6",
          "polar": {
           "angularaxis": {
            "gridcolor": "white",
            "linecolor": "white",
            "ticks": ""
           },
           "bgcolor": "#E5ECF6",
           "radialaxis": {
            "gridcolor": "white",
            "linecolor": "white",
            "ticks": ""
           }
          },
          "scene": {
           "xaxis": {
            "backgroundcolor": "#E5ECF6",
            "gridcolor": "white",
            "gridwidth": 2,
            "linecolor": "white",
            "showbackground": true,
            "ticks": "",
            "zerolinecolor": "white"
           },
           "yaxis": {
            "backgroundcolor": "#E5ECF6",
            "gridcolor": "white",
            "gridwidth": 2,
            "linecolor": "white",
            "showbackground": true,
            "ticks": "",
            "zerolinecolor": "white"
           },
           "zaxis": {
            "backgroundcolor": "#E5ECF6",
            "gridcolor": "white",
            "gridwidth": 2,
            "linecolor": "white",
            "showbackground": true,
            "ticks": "",
            "zerolinecolor": "white"
           }
          },
          "shapedefaults": {
           "line": {
            "color": "#2a3f5f"
           }
          },
          "ternary": {
           "aaxis": {
            "gridcolor": "white",
            "linecolor": "white",
            "ticks": ""
           },
           "baxis": {
            "gridcolor": "white",
            "linecolor": "white",
            "ticks": ""
           },
           "bgcolor": "#E5ECF6",
           "caxis": {
            "gridcolor": "white",
            "linecolor": "white",
            "ticks": ""
           }
          },
          "title": {
           "x": 0.05
          },
          "xaxis": {
           "automargin": true,
           "gridcolor": "white",
           "linecolor": "white",
           "ticks": "",
           "title": {
            "standoff": 15
           },
           "zerolinecolor": "white",
           "zerolinewidth": 2
          },
          "yaxis": {
           "automargin": true,
           "gridcolor": "white",
           "linecolor": "white",
           "ticks": "",
           "title": {
            "standoff": 15
           },
           "zerolinecolor": "white",
           "zerolinewidth": 2
          }
         }
        },
        "title": {
         "automargin": false,
         "font": {
          "color": "#2a3f5f",
          "family": "\"Open Sans\", verdana, arial, sans-serif",
          "lineposition": "none",
          "shadow": "none",
          "size": 17,
          "style": "normal",
          "textcase": "normal",
          "variant": "normal",
          "weight": "normal"
         },
         "pad": {
          "b": 0,
          "l": 0,
          "r": 0,
          "t": 0
         },
         "subtitle": {
          "font": {
           "color": "#2a3f5f",
           "family": "\"Open Sans\", verdana, arial, sans-serif",
           "lineposition": "none",
           "shadow": "none",
           "size": 12,
           "style": "normal",
           "textcase": "normal",
           "variant": "normal",
           "weight": "normal"
          },
          "text": "Click to enter Plot subtitle"
         },
         "text": "Click to enter Plot title",
         "x": 0.05,
         "xanchor": "auto",
         "xref": "container",
         "yanchor": "auto",
         "yref": "container"
        },
        "uniformtext": {
         "mode": false
        },
        "width": 600,
        "xaxis": {
         "anchor": "y",
         "automargin": true,
         "autorange": true,
         "autotickangles": [
          0,
          30,
          90
         ],
         "autotypenumbers": "strict",
         "color": "#444",
         "constrain": "range",
         "constraintoward": "center",
         "domain": [
          0,
          1
         ],
         "dtick": 1,
         "exponentformat": "B",
         "fixedrange": false,
         "gridcolor": "white",
         "griddash": "solid",
         "gridwidth": 1,
         "hoverformat": "",
         "layer": "above traces",
         "minexponent": 3,
         "nticks": 0,
         "range": [
          1.2938721234988944,
          6.775254840116523
         ],
         "rangemode": "normal",
         "separatethousands": false,
         "showexponent": "all",
         "showgrid": true,
         "showline": false,
         "showspikes": false,
         "showticklabels": true,
         "side": "bottom",
         "tick0": 0,
         "tickfont": {
          "color": "#2a3f5f",
          "family": "\"Open Sans\", verdana, arial, sans-serif",
          "lineposition": "none",
          "shadow": "none",
          "size": 12,
          "style": "normal",
          "textcase": "normal",
          "variant": "normal",
          "weight": "normal"
         },
         "tickformat": "",
         "ticklabeloverflow": "hide past div",
         "ticklabelposition": "outside",
         "ticklabelshift": 0,
         "ticklabelstandoff": 0,
         "ticklabelstep": 1,
         "tickmode": "auto",
         "tickprefix": "",
         "ticks": "",
         "ticksuffix": "",
         "title": {
          "font": {
           "color": "#2a3f5f",
           "family": "\"Open Sans\", verdana, arial, sans-serif",
           "lineposition": "none",
           "shadow": "none",
           "size": 14,
           "style": "normal",
           "textcase": "normal",
           "variant": "normal",
           "weight": "normal"
          },
          "standoff": 15,
          "text": "x"
         },
         "type": "linear",
         "visible": true,
         "zeroline": true,
         "zerolinecolor": "white",
         "zerolinewidth": 2
        },
        "yaxis": {
         "anchor": "x",
         "automargin": true,
         "autorange": true,
         "autotypenumbers": "strict",
         "color": "#444",
         "constrain": "range",
         "constraintoward": "middle",
         "domain": [
          0,
          1
         ],
         "dtick": 1,
         "exponentformat": "B",
         "fixedrange": false,
         "gridcolor": "white",
         "griddash": "solid",
         "gridwidth": 1,
         "hoverformat": "",
         "layer": "above traces",
         "minexponent": 3,
         "nticks": 0,
         "range": [
          6.619290425182122,
          12.27940933525489
         ],
         "rangemode": "normal",
         "separatethousands": false,
         "showexponent": "all",
         "showgrid": true,
         "showline": false,
         "showspikes": false,
         "showticklabels": true,
         "side": "left",
         "tick0": 0,
         "tickfont": {
          "color": "#2a3f5f",
          "family": "\"Open Sans\", verdana, arial, sans-serif",
          "lineposition": "none",
          "shadow": "none",
          "size": 12,
          "style": "normal",
          "textcase": "normal",
          "variant": "normal",
          "weight": "normal"
         },
         "tickformat": "",
         "ticklabeloverflow": "hide past div",
         "ticklabelposition": "outside",
         "ticklabelshift": 0,
         "ticklabelstandoff": 0,
         "ticklabelstep": 1,
         "tickmode": "auto",
         "tickprefix": "",
         "ticks": "",
         "ticksuffix": "",
         "title": {
          "font": {
           "color": "#2a3f5f",
           "family": "\"Open Sans\", verdana, arial, sans-serif",
           "lineposition": "none",
           "shadow": "none",
           "size": 14,
           "style": "normal",
           "textcase": "normal",
           "variant": "normal",
           "weight": "normal"
          },
          "standoff": 15,
          "text": "y"
         },
         "type": "linear",
         "visible": true,
         "zeroline": true,
         "zerolinecolor": "white",
         "zerolinewidth": 2
        }
       }
      }
     },
     "metadata": {},
     "output_type": "display_data"
    }
   ],
   "source": [
    "from plotly.colors import n_colors\n",
    "\n",
    "n_clusters = len(np.unique(cluster_assignments))\n",
    "\n",
    "# Use a built-in qualitative color sequence\n",
    "colors = px.colors.qualitative.Plotly + px.colors.qualitative.Set1 + px.colors.qualitative.Pastel\n",
    "\n",
    "# Create a color map\n",
    "color_map = {str(i): colors[i % len(colors)] for i in range(n_clusters)}\n",
    "\n",
    "\n",
    "fig = px.scatter(\n",
    "    dataset, \n",
    "    reduced_embeddings[:, 0],\n",
    "    reduced_embeddings[:, 1],\n",
    "    color=cluster_assignments.astype(str),\n",
    "    color_discrete_sequence=colors[:n_clusters],\n",
    "    hover_data=['Episode_Title', 'Episode Number', 'Season'],\n",
    "    width=600,\n",
    "    height=600\n",
    ")\n",
    "\n",
    "# Allows us to retrieve the range of axis (needed to filter circles that are too big)\n",
    "fig = fig.full_figure_for_development()\n",
    "\n",
    "color_map = {}\n",
    "for trace in fig.data:\n",
    "    color_map[trace.name] = trace.marker.color\n",
    "\n",
    "# Add circles around clusters\n",
    "for i, (center, radius) in enumerate(zip(centers, radii)):\n",
    "    \n",
    "    # Do not draw big circles for esthetics reasons\n",
    "    x_range = fig.layout.xaxis.range[1] - fig.layout.xaxis.range[0]\n",
    "    if radius > x_range / 6:\n",
    "        continue\n",
    "\n",
    "    fig.add_shape(\n",
    "        type=\"circle\",\n",
    "        xref=\"x\", yref=\"y\",\n",
    "        x0=center[0] - radius, y0=center[1] - radius,\n",
    "        x1=center[0] + radius, y1=center[1] + radius,\n",
    "        line_color=color_map[str(i)],\n",
    "        line_width=2,\n",
    "        # line_dash=\"dash\",\n",
    "        opacity=1.0\n",
    "    )\n",
    "\n",
    "fig.update_layout(showlegend=False)\n",
    "fig.show()"
   ]
  },
  {
   "cell_type": "code",
   "execution_count": 28,
   "metadata": {},
   "outputs": [
    {
     "name": "stdout",
     "output_type": "stream",
     "text": [
      "8.458898305084746\n"
     ]
    }
   ],
   "source": [
    "nb_clusters = len(np.unique(cluster_assignments))\n",
    "\n",
    "stars = []\n",
    "total_avg = np.mean(dataset['Stars'])\n",
    "\n",
    "for i in range(nb_clusters):\n",
    "    indices = list(np.where(cluster_assignments == i)[0]) # Indices of elements in cluster\n",
    "    cluster_stars = dataset[indices]['Stars'] # Stars of elements in cluster\n",
    "    avg_stars = np.mean(cluster_stars)\n",
    "    stars.append(avg_stars - total_avg)\n",
    "\n",
    "print(total_avg)"
   ]
  },
  {
   "cell_type": "code",
   "execution_count": 29,
   "metadata": {},
   "outputs": [
    {
     "data": {
      "application/vnd.plotly.v1+json": {
       "config": {
        "plotlyServerURL": "https://plot.ly"
       },
       "data": [
        {
         "alignmentgroup": "True",
         "hovertemplate": "color=#EF553B<br>value=%{x}<br>index=%{y}<extra></extra>",
         "legendgroup": "#EF553B",
         "marker": {
          "color": "#636EFA",
          "pattern": {
           "shape": ""
          }
         },
         "name": "#EF553B",
         "offsetgroup": "#EF553B",
         "orientation": "h",
         "showlegend": true,
         "textposition": "auto",
         "type": "bar",
         "x": [
          0.05717312348668102
         ],
         "xaxis": "x",
         "y": [
          0
         ],
         "yaxis": "y"
        },
        {
         "alignmentgroup": "True",
         "hovertemplate": "color=#636EFA<br>value=%{x}<br>index=%{y}<extra></extra>",
         "legendgroup": "#636EFA",
         "marker": {
          "color": "#EF553B",
          "pattern": {
           "shape": ""
          }
         },
         "name": "#636EFA",
         "offsetgroup": "#636EFA",
         "orientation": "h",
         "showlegend": true,
         "textposition": "auto",
         "type": "bar",
         "x": [
          -0.0038983050847480882
         ],
         "xaxis": "x",
         "y": [
          1
         ],
         "yaxis": "y"
        },
        {
         "alignmentgroup": "True",
         "hovertemplate": "color=#FFA15A<br>value=%{x}<br>index=%{y}<extra></extra>",
         "legendgroup": "#FFA15A",
         "marker": {
          "color": "#00CC96",
          "pattern": {
           "shape": ""
          }
         },
         "name": "#FFA15A",
         "offsetgroup": "#FFA15A",
         "orientation": "h",
         "showlegend": true,
         "textposition": "auto",
         "type": "bar",
         "x": [
          -0.1374697336561752
         ],
         "xaxis": "x",
         "y": [
          2
         ],
         "yaxis": "y"
        },
        {
         "alignmentgroup": "True",
         "hovertemplate": "color=#B6E880<br>value=%{x}<br>index=%{y}<extra></extra>",
         "legendgroup": "#B6E880",
         "marker": {
          "color": "#AB63FA",
          "pattern": {
           "shape": ""
          }
         },
         "name": "#B6E880",
         "offsetgroup": "#B6E880",
         "orientation": "h",
         "showlegend": true,
         "textposition": "auto",
         "type": "bar",
         "x": [
          -0.03389830508474567
         ],
         "xaxis": "x",
         "y": [
          3
         ],
         "yaxis": "y"
        },
        {
         "alignmentgroup": "True",
         "hovertemplate": "color=#AB63FA<br>value=%{x}<br>index=%{y}<extra></extra>",
         "legendgroup": "#AB63FA",
         "marker": {
          "color": "#FFA15A",
          "pattern": {
           "shape": ""
          }
         },
         "name": "#AB63FA",
         "offsetgroup": "#AB63FA",
         "orientation": "h",
         "showlegend": true,
         "textposition": "auto",
         "type": "bar",
         "x": [
          -0.14713359920239455
         ],
         "xaxis": "x",
         "y": [
          4
         ],
         "yaxis": "y"
        },
        {
         "alignmentgroup": "True",
         "hovertemplate": "color=#FECB52<br>value=%{x}<br>index=%{y}<extra></extra>",
         "legendgroup": "#FECB52",
         "marker": {
          "color": "#19D3F3",
          "pattern": {
           "shape": ""
          }
         },
         "name": "#FECB52",
         "offsetgroup": "#FECB52",
         "orientation": "h",
         "showlegend": true,
         "textposition": "auto",
         "type": "bar",
         "x": [
          -0.07556497175141352
         ],
         "xaxis": "x",
         "y": [
          5
         ],
         "yaxis": "y"
        },
        {
         "alignmentgroup": "True",
         "hovertemplate": "color=rgb(228,26,28)<br>value=%{x}<br>index=%{y}<extra></extra>",
         "legendgroup": "rgb(228,26,28)",
         "marker": {
          "color": "#FF6692",
          "pattern": {
           "shape": ""
          }
         },
         "name": "rgb(228,26,28)",
         "offsetgroup": "rgb(228,26,28)",
         "orientation": "h",
         "showlegend": true,
         "textposition": "auto",
         "type": "bar",
         "x": [
          0.35776836158192005
         ],
         "xaxis": "x",
         "y": [
          6
         ],
         "yaxis": "y"
        },
        {
         "alignmentgroup": "True",
         "hovertemplate": "color=#FF97FF<br>value=%{x}<br>index=%{y}<extra></extra>",
         "legendgroup": "#FF97FF",
         "marker": {
          "color": "#B6E880",
          "pattern": {
           "shape": ""
          }
         },
         "name": "#FF97FF",
         "offsetgroup": "#FF97FF",
         "orientation": "h",
         "showlegend": true,
         "textposition": "auto",
         "type": "bar",
         "x": [
          -0.12556497175141246
         ],
         "xaxis": "x",
         "y": [
          7
         ],
         "yaxis": "y"
        },
        {
         "alignmentgroup": "True",
         "hovertemplate": "color=rgb(55,126,184)<br>value=%{x}<br>index=%{y}<extra></extra>",
         "legendgroup": "rgb(55,126,184)",
         "marker": {
          "color": "#FF97FF",
          "pattern": {
           "shape": ""
          }
         },
         "name": "rgb(55,126,184)",
         "offsetgroup": "rgb(55,126,184)",
         "orientation": "h",
         "showlegend": true,
         "textposition": "auto",
         "type": "bar",
         "x": [
          -0.21889830508474617
         ],
         "xaxis": "x",
         "y": [
          8
         ],
         "yaxis": "y"
        },
        {
         "alignmentgroup": "True",
         "hovertemplate": "color=rgb(77,175,74)<br>value=%{x}<br>index=%{y}<extra></extra>",
         "legendgroup": "rgb(77,175,74)",
         "marker": {
          "color": "#FECB52",
          "pattern": {
           "shape": ""
          }
         },
         "name": "rgb(77,175,74)",
         "offsetgroup": "rgb(77,175,74)",
         "orientation": "h",
         "showlegend": true,
         "textposition": "auto",
         "type": "bar",
         "x": [
          -0.40889830508474745
         ],
         "xaxis": "x",
         "y": [
          9
         ],
         "yaxis": "y"
        },
        {
         "alignmentgroup": "True",
         "hovertemplate": "color=rgb(152,78,163)<br>value=%{x}<br>index=%{y}<extra></extra>",
         "legendgroup": "rgb(152,78,163)",
         "marker": {
          "color": "rgb(228,26,28)",
          "pattern": {
           "shape": ""
          }
         },
         "name": "rgb(152,78,163)",
         "offsetgroup": "rgb(152,78,163)",
         "orientation": "h",
         "showlegend": true,
         "textposition": "auto",
         "type": "bar",
         "x": [
          0.36776836158191983
         ],
         "xaxis": "x",
         "y": [
          10
         ],
         "yaxis": "y"
        },
        {
         "alignmentgroup": "True",
         "hovertemplate": "color=#19D3F3<br>value=%{x}<br>index=%{y}<extra></extra>",
         "legendgroup": "#19D3F3",
         "marker": {
          "color": "rgb(55,126,184)",
          "pattern": {
           "shape": ""
          }
         },
         "name": "#19D3F3",
         "offsetgroup": "#19D3F3",
         "orientation": "h",
         "showlegend": true,
         "textposition": "auto",
         "type": "bar",
         "x": [
          -0.17139830508474674
         ],
         "xaxis": "x",
         "y": [
          11
         ],
         "yaxis": "y"
        },
        {
         "alignmentgroup": "True",
         "hovertemplate": "color=rgb(255,127,0)<br>value=%{x}<br>index=%{y}<extra></extra>",
         "legendgroup": "rgb(255,127,0)",
         "marker": {
          "color": "rgb(77,175,74)",
          "pattern": {
           "shape": ""
          }
         },
         "name": "rgb(255,127,0)",
         "offsetgroup": "rgb(255,127,0)",
         "orientation": "h",
         "showlegend": true,
         "textposition": "auto",
         "type": "bar",
         "x": [
          0.17110169491525262
         ],
         "xaxis": "x",
         "y": [
          12
         ],
         "yaxis": "y"
        },
        {
         "alignmentgroup": "True",
         "hovertemplate": "color=rgb(166,86,40)<br>value=%{x}<br>index=%{y}<extra></extra>",
         "legendgroup": "rgb(166,86,40)",
         "marker": {
          "color": "rgb(152,78,163)",
          "pattern": {
           "shape": ""
          }
         },
         "name": "rgb(166,86,40)",
         "offsetgroup": "rgb(166,86,40)",
         "orientation": "h",
         "showlegend": true,
         "textposition": "auto",
         "type": "bar",
         "x": [
          -0.2922316384180803
         ],
         "xaxis": "x",
         "y": [
          13
         ],
         "yaxis": "y"
        },
        {
         "alignmentgroup": "True",
         "hovertemplate": "color=#FF6692<br>value=%{x}<br>index=%{y}<extra></extra>",
         "legendgroup": "#FF6692",
         "marker": {
          "color": "rgb(255,127,0)",
          "pattern": {
           "shape": ""
          }
         },
         "name": "#FF6692",
         "offsetgroup": "#FF6692",
         "orientation": "h",
         "showlegend": true,
         "textposition": "auto",
         "type": "bar",
         "x": [
          0.3811016949152535
         ],
         "xaxis": "x",
         "y": [
          14
         ],
         "yaxis": "y"
        },
        {
         "alignmentgroup": "True",
         "hovertemplate": "color=rgb(255,255,51)<br>value=%{x}<br>index=%{y}<extra></extra>",
         "legendgroup": "rgb(255,255,51)",
         "marker": {
          "color": "rgb(255,255,51)",
          "pattern": {
           "shape": ""
          }
         },
         "name": "rgb(255,255,51)",
         "offsetgroup": "rgb(255,255,51)",
         "orientation": "h",
         "showlegend": true,
         "textposition": "auto",
         "type": "bar",
         "x": [
          0.10360169491525362
         ],
         "xaxis": "x",
         "y": [
          15
         ],
         "yaxis": "y"
        },
        {
         "alignmentgroup": "True",
         "hovertemplate": "color=rgb(247,129,191)<br>value=%{x}<br>index=%{y}<extra></extra>",
         "legendgroup": "rgb(247,129,191)",
         "marker": {
          "color": "rgb(166,86,40)",
          "pattern": {
           "shape": ""
          }
         },
         "name": "rgb(247,129,191)",
         "offsetgroup": "rgb(247,129,191)",
         "orientation": "h",
         "showlegend": true,
         "textposition": "auto",
         "type": "bar",
         "x": [
          0.28110169491525205
         ],
         "xaxis": "x",
         "y": [
          16
         ],
         "yaxis": "y"
        },
        {
         "alignmentgroup": "True",
         "hovertemplate": "color=#00CC96<br>value=%{x}<br>index=%{y}<extra></extra>",
         "legendgroup": "#00CC96",
         "marker": {
          "color": "rgb(247,129,191)",
          "pattern": {
           "shape": ""
          }
         },
         "name": "#00CC96",
         "offsetgroup": "#00CC96",
         "orientation": "h",
         "showlegend": true,
         "textposition": "auto",
         "type": "bar",
         "x": [
          0.04110169491525539
         ],
         "xaxis": "x",
         "y": [
          17
         ],
         "yaxis": "y"
        }
       ],
       "layout": {
        "barmode": "relative",
        "legend": {
         "title": {
          "text": "color"
         },
         "tracegroupgap": 0
        },
        "margin": {
         "t": 60
        },
        "showlegend": false,
        "template": {
         "data": {
          "bar": [
           {
            "error_x": {
             "color": "#2a3f5f"
            },
            "error_y": {
             "color": "#2a3f5f"
            },
            "marker": {
             "line": {
              "color": "#E5ECF6",
              "width": 0.5
             },
             "pattern": {
              "fillmode": "overlay",
              "size": 10,
              "solidity": 0.2
             }
            },
            "type": "bar"
           }
          ],
          "barpolar": [
           {
            "marker": {
             "line": {
              "color": "#E5ECF6",
              "width": 0.5
             },
             "pattern": {
              "fillmode": "overlay",
              "size": 10,
              "solidity": 0.2
             }
            },
            "type": "barpolar"
           }
          ],
          "carpet": [
           {
            "aaxis": {
             "endlinecolor": "#2a3f5f",
             "gridcolor": "white",
             "linecolor": "white",
             "minorgridcolor": "white",
             "startlinecolor": "#2a3f5f"
            },
            "baxis": {
             "endlinecolor": "#2a3f5f",
             "gridcolor": "white",
             "linecolor": "white",
             "minorgridcolor": "white",
             "startlinecolor": "#2a3f5f"
            },
            "type": "carpet"
           }
          ],
          "choropleth": [
           {
            "colorbar": {
             "outlinewidth": 0,
             "ticks": ""
            },
            "type": "choropleth"
           }
          ],
          "contour": [
           {
            "colorbar": {
             "outlinewidth": 0,
             "ticks": ""
            },
            "colorscale": [
             [
              0,
              "#0d0887"
             ],
             [
              0.1111111111111111,
              "#46039f"
             ],
             [
              0.2222222222222222,
              "#7201a8"
             ],
             [
              0.3333333333333333,
              "#9c179e"
             ],
             [
              0.4444444444444444,
              "#bd3786"
             ],
             [
              0.5555555555555556,
              "#d8576b"
             ],
             [
              0.6666666666666666,
              "#ed7953"
             ],
             [
              0.7777777777777778,
              "#fb9f3a"
             ],
             [
              0.8888888888888888,
              "#fdca26"
             ],
             [
              1,
              "#f0f921"
             ]
            ],
            "type": "contour"
           }
          ],
          "contourcarpet": [
           {
            "colorbar": {
             "outlinewidth": 0,
             "ticks": ""
            },
            "type": "contourcarpet"
           }
          ],
          "heatmap": [
           {
            "colorbar": {
             "outlinewidth": 0,
             "ticks": ""
            },
            "colorscale": [
             [
              0,
              "#0d0887"
             ],
             [
              0.1111111111111111,
              "#46039f"
             ],
             [
              0.2222222222222222,
              "#7201a8"
             ],
             [
              0.3333333333333333,
              "#9c179e"
             ],
             [
              0.4444444444444444,
              "#bd3786"
             ],
             [
              0.5555555555555556,
              "#d8576b"
             ],
             [
              0.6666666666666666,
              "#ed7953"
             ],
             [
              0.7777777777777778,
              "#fb9f3a"
             ],
             [
              0.8888888888888888,
              "#fdca26"
             ],
             [
              1,
              "#f0f921"
             ]
            ],
            "type": "heatmap"
           }
          ],
          "heatmapgl": [
           {
            "colorbar": {
             "outlinewidth": 0,
             "ticks": ""
            },
            "colorscale": [
             [
              0,
              "#0d0887"
             ],
             [
              0.1111111111111111,
              "#46039f"
             ],
             [
              0.2222222222222222,
              "#7201a8"
             ],
             [
              0.3333333333333333,
              "#9c179e"
             ],
             [
              0.4444444444444444,
              "#bd3786"
             ],
             [
              0.5555555555555556,
              "#d8576b"
             ],
             [
              0.6666666666666666,
              "#ed7953"
             ],
             [
              0.7777777777777778,
              "#fb9f3a"
             ],
             [
              0.8888888888888888,
              "#fdca26"
             ],
             [
              1,
              "#f0f921"
             ]
            ],
            "type": "heatmapgl"
           }
          ],
          "histogram": [
           {
            "marker": {
             "pattern": {
              "fillmode": "overlay",
              "size": 10,
              "solidity": 0.2
             }
            },
            "type": "histogram"
           }
          ],
          "histogram2d": [
           {
            "colorbar": {
             "outlinewidth": 0,
             "ticks": ""
            },
            "colorscale": [
             [
              0,
              "#0d0887"
             ],
             [
              0.1111111111111111,
              "#46039f"
             ],
             [
              0.2222222222222222,
              "#7201a8"
             ],
             [
              0.3333333333333333,
              "#9c179e"
             ],
             [
              0.4444444444444444,
              "#bd3786"
             ],
             [
              0.5555555555555556,
              "#d8576b"
             ],
             [
              0.6666666666666666,
              "#ed7953"
             ],
             [
              0.7777777777777778,
              "#fb9f3a"
             ],
             [
              0.8888888888888888,
              "#fdca26"
             ],
             [
              1,
              "#f0f921"
             ]
            ],
            "type": "histogram2d"
           }
          ],
          "histogram2dcontour": [
           {
            "colorbar": {
             "outlinewidth": 0,
             "ticks": ""
            },
            "colorscale": [
             [
              0,
              "#0d0887"
             ],
             [
              0.1111111111111111,
              "#46039f"
             ],
             [
              0.2222222222222222,
              "#7201a8"
             ],
             [
              0.3333333333333333,
              "#9c179e"
             ],
             [
              0.4444444444444444,
              "#bd3786"
             ],
             [
              0.5555555555555556,
              "#d8576b"
             ],
             [
              0.6666666666666666,
              "#ed7953"
             ],
             [
              0.7777777777777778,
              "#fb9f3a"
             ],
             [
              0.8888888888888888,
              "#fdca26"
             ],
             [
              1,
              "#f0f921"
             ]
            ],
            "type": "histogram2dcontour"
           }
          ],
          "mesh3d": [
           {
            "colorbar": {
             "outlinewidth": 0,
             "ticks": ""
            },
            "type": "mesh3d"
           }
          ],
          "parcoords": [
           {
            "line": {
             "colorbar": {
              "outlinewidth": 0,
              "ticks": ""
             }
            },
            "type": "parcoords"
           }
          ],
          "pie": [
           {
            "automargin": true,
            "type": "pie"
           }
          ],
          "scatter": [
           {
            "fillpattern": {
             "fillmode": "overlay",
             "size": 10,
             "solidity": 0.2
            },
            "type": "scatter"
           }
          ],
          "scatter3d": [
           {
            "line": {
             "colorbar": {
              "outlinewidth": 0,
              "ticks": ""
             }
            },
            "marker": {
             "colorbar": {
              "outlinewidth": 0,
              "ticks": ""
             }
            },
            "type": "scatter3d"
           }
          ],
          "scattercarpet": [
           {
            "marker": {
             "colorbar": {
              "outlinewidth": 0,
              "ticks": ""
             }
            },
            "type": "scattercarpet"
           }
          ],
          "scattergeo": [
           {
            "marker": {
             "colorbar": {
              "outlinewidth": 0,
              "ticks": ""
             }
            },
            "type": "scattergeo"
           }
          ],
          "scattergl": [
           {
            "marker": {
             "colorbar": {
              "outlinewidth": 0,
              "ticks": ""
             }
            },
            "type": "scattergl"
           }
          ],
          "scattermapbox": [
           {
            "marker": {
             "colorbar": {
              "outlinewidth": 0,
              "ticks": ""
             }
            },
            "type": "scattermapbox"
           }
          ],
          "scatterpolar": [
           {
            "marker": {
             "colorbar": {
              "outlinewidth": 0,
              "ticks": ""
             }
            },
            "type": "scatterpolar"
           }
          ],
          "scatterpolargl": [
           {
            "marker": {
             "colorbar": {
              "outlinewidth": 0,
              "ticks": ""
             }
            },
            "type": "scatterpolargl"
           }
          ],
          "scatterternary": [
           {
            "marker": {
             "colorbar": {
              "outlinewidth": 0,
              "ticks": ""
             }
            },
            "type": "scatterternary"
           }
          ],
          "surface": [
           {
            "colorbar": {
             "outlinewidth": 0,
             "ticks": ""
            },
            "colorscale": [
             [
              0,
              "#0d0887"
             ],
             [
              0.1111111111111111,
              "#46039f"
             ],
             [
              0.2222222222222222,
              "#7201a8"
             ],
             [
              0.3333333333333333,
              "#9c179e"
             ],
             [
              0.4444444444444444,
              "#bd3786"
             ],
             [
              0.5555555555555556,
              "#d8576b"
             ],
             [
              0.6666666666666666,
              "#ed7953"
             ],
             [
              0.7777777777777778,
              "#fb9f3a"
             ],
             [
              0.8888888888888888,
              "#fdca26"
             ],
             [
              1,
              "#f0f921"
             ]
            ],
            "type": "surface"
           }
          ],
          "table": [
           {
            "cells": {
             "fill": {
              "color": "#EBF0F8"
             },
             "line": {
              "color": "white"
             }
            },
            "header": {
             "fill": {
              "color": "#C8D4E3"
             },
             "line": {
              "color": "white"
             }
            },
            "type": "table"
           }
          ]
         },
         "layout": {
          "annotationdefaults": {
           "arrowcolor": "#2a3f5f",
           "arrowhead": 0,
           "arrowwidth": 1
          },
          "autotypenumbers": "strict",
          "coloraxis": {
           "colorbar": {
            "outlinewidth": 0,
            "ticks": ""
           }
          },
          "colorscale": {
           "diverging": [
            [
             0,
             "#8e0152"
            ],
            [
             0.1,
             "#c51b7d"
            ],
            [
             0.2,
             "#de77ae"
            ],
            [
             0.3,
             "#f1b6da"
            ],
            [
             0.4,
             "#fde0ef"
            ],
            [
             0.5,
             "#f7f7f7"
            ],
            [
             0.6,
             "#e6f5d0"
            ],
            [
             0.7,
             "#b8e186"
            ],
            [
             0.8,
             "#7fbc41"
            ],
            [
             0.9,
             "#4d9221"
            ],
            [
             1,
             "#276419"
            ]
           ],
           "sequential": [
            [
             0,
             "#0d0887"
            ],
            [
             0.1111111111111111,
             "#46039f"
            ],
            [
             0.2222222222222222,
             "#7201a8"
            ],
            [
             0.3333333333333333,
             "#9c179e"
            ],
            [
             0.4444444444444444,
             "#bd3786"
            ],
            [
             0.5555555555555556,
             "#d8576b"
            ],
            [
             0.6666666666666666,
             "#ed7953"
            ],
            [
             0.7777777777777778,
             "#fb9f3a"
            ],
            [
             0.8888888888888888,
             "#fdca26"
            ],
            [
             1,
             "#f0f921"
            ]
           ],
           "sequentialminus": [
            [
             0,
             "#0d0887"
            ],
            [
             0.1111111111111111,
             "#46039f"
            ],
            [
             0.2222222222222222,
             "#7201a8"
            ],
            [
             0.3333333333333333,
             "#9c179e"
            ],
            [
             0.4444444444444444,
             "#bd3786"
            ],
            [
             0.5555555555555556,
             "#d8576b"
            ],
            [
             0.6666666666666666,
             "#ed7953"
            ],
            [
             0.7777777777777778,
             "#fb9f3a"
            ],
            [
             0.8888888888888888,
             "#fdca26"
            ],
            [
             1,
             "#f0f921"
            ]
           ]
          },
          "colorway": [
           "#636efa",
           "#EF553B",
           "#00cc96",
           "#ab63fa",
           "#FFA15A",
           "#19d3f3",
           "#FF6692",
           "#B6E880",
           "#FF97FF",
           "#FECB52"
          ],
          "font": {
           "color": "#2a3f5f"
          },
          "geo": {
           "bgcolor": "white",
           "lakecolor": "white",
           "landcolor": "#E5ECF6",
           "showlakes": true,
           "showland": true,
           "subunitcolor": "white"
          },
          "hoverlabel": {
           "align": "left"
          },
          "hovermode": "closest",
          "mapbox": {
           "style": "light"
          },
          "paper_bgcolor": "white",
          "plot_bgcolor": "#E5ECF6",
          "polar": {
           "angularaxis": {
            "gridcolor": "white",
            "linecolor": "white",
            "ticks": ""
           },
           "bgcolor": "#E5ECF6",
           "radialaxis": {
            "gridcolor": "white",
            "linecolor": "white",
            "ticks": ""
           }
          },
          "scene": {
           "xaxis": {
            "backgroundcolor": "#E5ECF6",
            "gridcolor": "white",
            "gridwidth": 2,
            "linecolor": "white",
            "showbackground": true,
            "ticks": "",
            "zerolinecolor": "white"
           },
           "yaxis": {
            "backgroundcolor": "#E5ECF6",
            "gridcolor": "white",
            "gridwidth": 2,
            "linecolor": "white",
            "showbackground": true,
            "ticks": "",
            "zerolinecolor": "white"
           },
           "zaxis": {
            "backgroundcolor": "#E5ECF6",
            "gridcolor": "white",
            "gridwidth": 2,
            "linecolor": "white",
            "showbackground": true,
            "ticks": "",
            "zerolinecolor": "white"
           }
          },
          "shapedefaults": {
           "line": {
            "color": "#2a3f5f"
           }
          },
          "ternary": {
           "aaxis": {
            "gridcolor": "white",
            "linecolor": "white",
            "ticks": ""
           },
           "baxis": {
            "gridcolor": "white",
            "linecolor": "white",
            "ticks": ""
           },
           "bgcolor": "#E5ECF6",
           "caxis": {
            "gridcolor": "white",
            "linecolor": "white",
            "ticks": ""
           }
          },
          "title": {
           "x": 0.05
          },
          "xaxis": {
           "automargin": true,
           "gridcolor": "white",
           "linecolor": "white",
           "ticks": "",
           "title": {
            "standoff": 15
           },
           "zerolinecolor": "white",
           "zerolinewidth": 2
          },
          "yaxis": {
           "automargin": true,
           "gridcolor": "white",
           "linecolor": "white",
           "ticks": "",
           "title": {
            "standoff": 15
           },
           "zerolinecolor": "white",
           "zerolinewidth": 2
          }
         }
        },
        "xaxis": {
         "anchor": "y",
         "domain": [
          0,
          1
         ],
         "title": {
          "text": "Distance from average (cluster average - total average)"
         }
        },
        "yaxis": {
         "anchor": "x",
         "domain": [
          0,
          1
         ],
         "title": {
          "text": "Cluster"
         }
        }
       }
      }
     },
     "metadata": {},
     "output_type": "display_data"
    }
   ],
   "source": [
    "px.bar(\n",
    "    stars,\n",
    "    color=list(map(lambda x: color_map[str(x)], range(nb_clusters))),#[color_map[str(x)] for x in range(nb_clusters)],\n",
    "    color_discrete_sequence=colors[:n_clusters],\n",
    "    labels=range(nb_clusters),\n",
    "    orientation='h',\n",
    ").update_layout(\n",
    "    showlegend=False,\n",
    "    yaxis_title='Cluster',\n",
    "    xaxis_title='Distance from average (cluster average - total average)',\n",
    ")"
   ]
  },
  {
   "cell_type": "code",
   "execution_count": 41,
   "metadata": {},
   "outputs": [
    {
     "name": "stdout",
     "output_type": "stream",
     "text": [
      "|     | title_summary                                                                                                                                                                          |\n",
      "|----:|:---------------------------------------------------------------------------------------------------------------------------------------------------------------------------------------|\n",
      "|   8 | The One Where Underdog Gets Away : The gang's plans for Thanksgiving go awry after they get locked out of Monica and Rachel's apartment.                                               |\n",
      "|  56 | The One with the Football : Old sibling rivalry between Monica and Ross resurfaces and postpones Thanksgiving dinner when the gang decide to play a game of \"touch\" football.          |\n",
      "| 178 | The One with the Rumor : Monica invites Will, an old school friend of her and Ross over for Thanksgiving dinner, unaware he isn't too fond of Rachel.                                  |\n",
      "| 201 | The One with Rachel's Other Sister : Rachel's middle sister shows up at Thanksgiving and causes arguments amongst the gang.                                                            |\n",
      "| 225 | The One with the Late Thanksgiving : Joey, Ross, Rachel and Phoebe convince Monica and Chandler to host Thanksgiving, however the four of them end up arriving to dinner an hour late. |\n"
     ]
    }
   ],
   "source": [
    "most_popular_cluster = 14\n",
    "\n",
    "pd.set_option('display.max_colwidth', None) # Allows to see the full column\n",
    "print(friends_episodes_description_df.groupby('cluster').get_group(most_popular_cluster)['title_summary'].head(5).to_markdown())"
   ]
  },
  {
   "cell_type": "code",
   "execution_count": 40,
   "metadata": {},
   "outputs": [
    {
     "name": "stdout",
     "output_type": "stream",
     "text": [
      "|     | title_summary                                                                                                                                                                                                                                                                   |\n",
      "|----:|:--------------------------------------------------------------------------------------------------------------------------------------------------------------------------------------------------------------------------------------------------------------------------------|\n",
      "|  30 | The One Where Ross Finds Out : A drunken Rachel calls Ross and reveals her feelings for him on his answering machine. Meanwhile, Monica keeps busy by being Chandler's personal trainer and Phoebe constantly wonders why her current boyfriend won't sleep with her.           |\n",
      "|  63 | The One with the Morning After : Ross is guilt-ridden after sleeping with Chloe and desperately tries to stop Rachel from finding out and when she does, the rest of the gang listen to them argue and end up trapped in Monica's room for the rest of the night.               |\n",
      "|  87 | The One with All the Rugby : Chandler runs into Janice, and finds her more irritating than ever and creates an elaborate plan to break up with her, meanwhile, Ross attempts to learn how to play rugby to impress Emily and Monica obsesses over a electric lighting switch.   |\n",
      "|  89 | The One with the Free Porn : Chandler and Joey discover that they're getting a free porn channel on their TV. Monica encourages Ross to tell Emily he loves her just before she leaves for London. Phoebe gets a shock when she visits her OB-GYN.                              |\n",
      "|  98 | The One with All the Kissing : Chandler must constantly kiss the girls to cover up a kiss he gave to Monica to hide their affair. Phoebe gets irritated when the gang constantly talk about London. Rachel puts Monica in charge of her love life. Ross tries to contact Emily. |\n",
      "| 100 | The One Where Phoebe Hates PBS : Ross finally gets in touch with Emily and they try to work it out. Chandler gloats after Rachel reveals that Monica's secret boyfriend is the best sex she ever had. Phoebe and Joey debate if a selfless good deed exists.                    |\n",
      "| 101 | The One with the Kips : Chandler and Monica go away for the weekend but spend the entire time fighting. Ross tries to tell Rachel about his agreement with Emily.                                                                                                               |\n",
      "| 108 | The One with Chandler's Work Laugh : Monica becomes annoyed at how Chandler sucks up to his boss by mimicking his boss's laugh and laughing at his tasteless jokes. Ross hooks up with Janice when he finds out Emily is getting married.                                       |\n",
      "| 110 | The One Where Everybody Finds Out : When Phoebe finds out about Monica and Chandler, she and Rachel attempt to get them to confess their relationship.                                                                                                                          |\n",
      "| 134 | The One Where Chandler Can't Cry : Rachel tries to end the spark between Ross and Jill. When Chandler admits that he can't cry, Monica tries to make it happen. The gang discovers that Phoebe's sister, Ursula, is a porn star and is using Phoebe's name.                     |\n"
     ]
    }
   ],
   "source": [
    "second_most_popular_cluster = 10\n",
    "print(friends_episodes_description_df.groupby('cluster').get_group(second_most_popular_cluster)['title_summary'].head(10).to_markdown())"
   ]
  },
  {
   "cell_type": "code",
   "execution_count": 42,
   "metadata": {},
   "outputs": [
    {
     "name": "stdout",
     "output_type": "stream",
     "text": [
      "|     | title_summary                                                                                                                                                                                                                                                               |\n",
      "|----:|:----------------------------------------------------------------------------------------------------------------------------------------------------------------------------------------------------------------------------------------------------------------------------|\n",
      "|  22 | The One with the Birth : As Carol goes into labor; Ross and Susan argue, Rachel flirts with Carol's doctor, and Joey assists a pregnant single mother.                                                                                                                      |\n",
      "|  84 | The One with the Embryos : Phoebe's uterus is examined for implantation of the embryos. Meanwhile, a seemingly harmless game between Chandler and Joey against Monica and Rachel escalates into a full blown contest where the stakes are raised higher and higher.         |\n",
      "| 170 | The One After I Do : The gang learns that Rachel is pregnant; Joey tries to impress a Broadway director who's dating Chandler's mom; Chandler's shoes make it hard for him to dance.                                                                                        |\n",
      "| 191 | The One Where Rachel Is Late : Monica and Phoebe bet on when Rachel's baby will be born as the due date comes and goes as Rachel becomes extremely irritable; Chandler falls asleep at Joey's big movie premiere.                                                           |\n",
      "| 192 | The One Where Rachel Has a Baby: Part 1 : Ross and Rachel go to the hospital to have their baby, but it's a long labor. They get stuck in a semi-private room, and many other couples come and go before Rachel is ready to deliver - ...                See full summary » |\n"
     ]
    }
   ],
   "source": [
    "third_most_popular_cluster = 6\n",
    "print(friends_episodes_description_df.groupby('cluster').get_group(third_most_popular_cluster)['title_summary'].head(5).to_markdown())"
   ]
  }
 ],
 "metadata": {
  "kernelspec": {
   "display_name": ".venv",
   "language": "python",
   "name": "python3"
  },
  "language_info": {
   "codemirror_mode": {
    "name": "ipython",
    "version": 3
   },
   "file_extension": ".py",
   "mimetype": "text/x-python",
   "name": "python",
   "nbconvert_exporter": "python",
   "pygments_lexer": "ipython3",
   "version": "3.11.9"
  }
 },
 "nbformat": 4,
 "nbformat_minor": 2
}
